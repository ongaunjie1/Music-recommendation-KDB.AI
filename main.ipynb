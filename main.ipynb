{
 "cells": [
  {
   "cell_type": "code",
   "execution_count": 44,
   "metadata": {},
   "outputs": [
    {
     "name": "stderr",
     "output_type": "stream",
     "text": [
      "[nltk_data] Downloading package punkt to\n",
      "[nltk_data]     C:\\Users\\User\\AppData\\Roaming\\nltk_data...\n",
      "[nltk_data]   Package punkt is already up-to-date!\n"
     ]
    },
    {
     "data": {
      "text/plain": [
       "True"
      ]
     },
     "execution_count": 44,
     "metadata": {},
     "output_type": "execute_result"
    }
   ],
   "source": [
    "import pandas as pd \n",
    "import numpy as np\n",
    "import nltk \n",
    "nltk.download(\"punkt\")"
   ]
  },
  {
   "cell_type": "code",
   "execution_count": 45,
   "metadata": {},
   "outputs": [],
   "source": [
    "# embedding categorical data\n",
    "from nltk.tokenize import word_tokenize\n",
    "from gensim.models import Word2Vec"
   ]
  },
  {
   "cell_type": "code",
   "execution_count": 46,
   "metadata": {},
   "outputs": [],
   "source": [
    "# timing\n",
    "from tqdm.auto import tqdm"
   ]
  },
  {
   "cell_type": "code",
   "execution_count": 47,
   "metadata": {},
   "outputs": [],
   "source": [
    "# vector DB\n",
    "import os\n",
    "import kdbai_client as kdbai\n",
    "from getpass import getpass\n",
    "import time"
   ]
  },
  {
   "cell_type": "code",
   "execution_count": 48,
   "metadata": {},
   "outputs": [],
   "source": [
    "pd.set_option(\"max_colwidth\", 1000)"
   ]
  },
  {
   "cell_type": "code",
   "execution_count": 49,
   "metadata": {},
   "outputs": [],
   "source": [
    "pd.options.mode.chained_assignment = None"
   ]
  },
  {
   "cell_type": "markdown",
   "metadata": {},
   "source": [
    "## Helper functions\n"
   ]
  },
  {
   "cell_type": "code",
   "execution_count": 50,
   "metadata": {},
   "outputs": [],
   "source": [
    "def show_df(df: pd.DataFrame) -> pd.DataFrame:\n",
    "    print(df.shape)\n",
    "    return df.head()\n",
    "    \n",
    "def show_embeddings(embeddings: np.array) -> list[int]:\n",
    "    print(\"Num Embeddings:\", len(embeddings))\n",
    "    print(\"Embedding Size:\", len(embeddings[0]))\n",
    "    return list(embeddings[0])"
   ]
  },
  {
   "cell_type": "markdown",
   "metadata": {},
   "source": [
    "## Load songs"
   ]
  },
  {
   "cell_type": "code",
   "execution_count": 51,
   "metadata": {},
   "outputs": [],
   "source": [
    "df = pd.read_csv('song_data.csv')"
   ]
  },
  {
   "cell_type": "code",
   "execution_count": 52,
   "metadata": {},
   "outputs": [
    {
     "name": "stdout",
     "output_type": "stream",
     "text": [
      "(170653, 19)\n"
     ]
    },
    {
     "data": {
      "text/html": [
       "<div>\n",
       "<style scoped>\n",
       "    .dataframe tbody tr th:only-of-type {\n",
       "        vertical-align: middle;\n",
       "    }\n",
       "\n",
       "    .dataframe tbody tr th {\n",
       "        vertical-align: top;\n",
       "    }\n",
       "\n",
       "    .dataframe thead th {\n",
       "        text-align: right;\n",
       "    }\n",
       "</style>\n",
       "<table border=\"1\" class=\"dataframe\">\n",
       "  <thead>\n",
       "    <tr style=\"text-align: right;\">\n",
       "      <th></th>\n",
       "      <th>id</th>\n",
       "      <th>name</th>\n",
       "      <th>artists</th>\n",
       "      <th>acousticness</th>\n",
       "      <th>danceability</th>\n",
       "      <th>duration_ms</th>\n",
       "      <th>energy</th>\n",
       "      <th>explicit</th>\n",
       "      <th>instrumentalness</th>\n",
       "      <th>key</th>\n",
       "      <th>liveness</th>\n",
       "      <th>loudness</th>\n",
       "      <th>mode</th>\n",
       "      <th>popularity</th>\n",
       "      <th>release_date</th>\n",
       "      <th>speechiness</th>\n",
       "      <th>tempo</th>\n",
       "      <th>valence</th>\n",
       "      <th>year</th>\n",
       "    </tr>\n",
       "  </thead>\n",
       "  <tbody>\n",
       "    <tr>\n",
       "      <th>0</th>\n",
       "      <td>4BJqT0PrAfrxzMOxytFOIz</td>\n",
       "      <td>Piano Concerto No. 3 in D Minor, Op. 30: III. Finale. Alla breve</td>\n",
       "      <td>['Sergei Rachmaninoff', 'James Levine', 'Berliner Philharmoniker']</td>\n",
       "      <td>0.982</td>\n",
       "      <td>0.279</td>\n",
       "      <td>831667</td>\n",
       "      <td>0.211</td>\n",
       "      <td>0</td>\n",
       "      <td>0.878000</td>\n",
       "      <td>10</td>\n",
       "      <td>0.665</td>\n",
       "      <td>-20.096</td>\n",
       "      <td>1</td>\n",
       "      <td>4</td>\n",
       "      <td>1921</td>\n",
       "      <td>0.0366</td>\n",
       "      <td>80.954</td>\n",
       "      <td>0.0594</td>\n",
       "      <td>1921</td>\n",
       "    </tr>\n",
       "    <tr>\n",
       "      <th>1</th>\n",
       "      <td>7xPhfUan2yNtyFG0cUWkt8</td>\n",
       "      <td>Clancy Lowered the Boom</td>\n",
       "      <td>['Dennis Day']</td>\n",
       "      <td>0.732</td>\n",
       "      <td>0.819</td>\n",
       "      <td>180533</td>\n",
       "      <td>0.341</td>\n",
       "      <td>0</td>\n",
       "      <td>0.000000</td>\n",
       "      <td>7</td>\n",
       "      <td>0.160</td>\n",
       "      <td>-12.441</td>\n",
       "      <td>1</td>\n",
       "      <td>5</td>\n",
       "      <td>1921</td>\n",
       "      <td>0.4150</td>\n",
       "      <td>60.936</td>\n",
       "      <td>0.9630</td>\n",
       "      <td>1921</td>\n",
       "    </tr>\n",
       "    <tr>\n",
       "      <th>2</th>\n",
       "      <td>1o6I8BglA6ylDMrIELygv1</td>\n",
       "      <td>Gati Bali</td>\n",
       "      <td>['KHP Kridhamardawa Karaton Ngayogyakarta Hadiningrat']</td>\n",
       "      <td>0.961</td>\n",
       "      <td>0.328</td>\n",
       "      <td>500062</td>\n",
       "      <td>0.166</td>\n",
       "      <td>0</td>\n",
       "      <td>0.913000</td>\n",
       "      <td>3</td>\n",
       "      <td>0.101</td>\n",
       "      <td>-14.850</td>\n",
       "      <td>1</td>\n",
       "      <td>5</td>\n",
       "      <td>1921</td>\n",
       "      <td>0.0339</td>\n",
       "      <td>110.339</td>\n",
       "      <td>0.0394</td>\n",
       "      <td>1921</td>\n",
       "    </tr>\n",
       "    <tr>\n",
       "      <th>3</th>\n",
       "      <td>3ftBPsC5vPBKxYSee08FDH</td>\n",
       "      <td>Danny Boy</td>\n",
       "      <td>['Frank Parker']</td>\n",
       "      <td>0.967</td>\n",
       "      <td>0.275</td>\n",
       "      <td>210000</td>\n",
       "      <td>0.309</td>\n",
       "      <td>0</td>\n",
       "      <td>0.000028</td>\n",
       "      <td>5</td>\n",
       "      <td>0.381</td>\n",
       "      <td>-9.316</td>\n",
       "      <td>1</td>\n",
       "      <td>3</td>\n",
       "      <td>1921</td>\n",
       "      <td>0.0354</td>\n",
       "      <td>100.109</td>\n",
       "      <td>0.1650</td>\n",
       "      <td>1921</td>\n",
       "    </tr>\n",
       "    <tr>\n",
       "      <th>4</th>\n",
       "      <td>4d6HGyGT8e121BsdKmw9v6</td>\n",
       "      <td>When Irish Eyes Are Smiling</td>\n",
       "      <td>['Phil Regan']</td>\n",
       "      <td>0.957</td>\n",
       "      <td>0.418</td>\n",
       "      <td>166693</td>\n",
       "      <td>0.193</td>\n",
       "      <td>0</td>\n",
       "      <td>0.000002</td>\n",
       "      <td>3</td>\n",
       "      <td>0.229</td>\n",
       "      <td>-10.096</td>\n",
       "      <td>1</td>\n",
       "      <td>2</td>\n",
       "      <td>1921</td>\n",
       "      <td>0.0380</td>\n",
       "      <td>101.665</td>\n",
       "      <td>0.2530</td>\n",
       "      <td>1921</td>\n",
       "    </tr>\n",
       "  </tbody>\n",
       "</table>\n",
       "</div>"
      ],
      "text/plain": [
       "                       id  \\\n",
       "0  4BJqT0PrAfrxzMOxytFOIz   \n",
       "1  7xPhfUan2yNtyFG0cUWkt8   \n",
       "2  1o6I8BglA6ylDMrIELygv1   \n",
       "3  3ftBPsC5vPBKxYSee08FDH   \n",
       "4  4d6HGyGT8e121BsdKmw9v6   \n",
       "\n",
       "                                                               name  \\\n",
       "0  Piano Concerto No. 3 in D Minor, Op. 30: III. Finale. Alla breve   \n",
       "1                                           Clancy Lowered the Boom   \n",
       "2                                                         Gati Bali   \n",
       "3                                                         Danny Boy   \n",
       "4                                       When Irish Eyes Are Smiling   \n",
       "\n",
       "                                                              artists  \\\n",
       "0  ['Sergei Rachmaninoff', 'James Levine', 'Berliner Philharmoniker']   \n",
       "1                                                      ['Dennis Day']   \n",
       "2             ['KHP Kridhamardawa Karaton Ngayogyakarta Hadiningrat']   \n",
       "3                                                    ['Frank Parker']   \n",
       "4                                                      ['Phil Regan']   \n",
       "\n",
       "   acousticness  danceability  duration_ms  energy  explicit  \\\n",
       "0         0.982         0.279       831667   0.211         0   \n",
       "1         0.732         0.819       180533   0.341         0   \n",
       "2         0.961         0.328       500062   0.166         0   \n",
       "3         0.967         0.275       210000   0.309         0   \n",
       "4         0.957         0.418       166693   0.193         0   \n",
       "\n",
       "   instrumentalness  key  liveness  loudness  mode  popularity release_date  \\\n",
       "0          0.878000   10     0.665   -20.096     1           4         1921   \n",
       "1          0.000000    7     0.160   -12.441     1           5         1921   \n",
       "2          0.913000    3     0.101   -14.850     1           5         1921   \n",
       "3          0.000028    5     0.381    -9.316     1           3         1921   \n",
       "4          0.000002    3     0.229   -10.096     1           2         1921   \n",
       "\n",
       "   speechiness    tempo  valence  year  \n",
       "0       0.0366   80.954   0.0594  1921  \n",
       "1       0.4150   60.936   0.9630  1921  \n",
       "2       0.0339  110.339   0.0394  1921  \n",
       "3       0.0354  100.109   0.1650  1921  \n",
       "4       0.0380  101.665   0.2530  1921  "
      ]
     },
     "execution_count": 52,
     "metadata": {},
     "output_type": "execute_result"
    }
   ],
   "source": [
    "show_df(df)"
   ]
  },
  {
   "cell_type": "markdown",
   "metadata": {},
   "source": [
    "## Pre-process data"
   ]
  },
  {
   "cell_type": "code",
   "execution_count": 53,
   "metadata": {},
   "outputs": [
    {
     "data": {
      "text/html": [
       "<div>\n",
       "<style scoped>\n",
       "    .dataframe tbody tr th:only-of-type {\n",
       "        vertical-align: middle;\n",
       "    }\n",
       "\n",
       "    .dataframe tbody tr th {\n",
       "        vertical-align: top;\n",
       "    }\n",
       "\n",
       "    .dataframe thead th {\n",
       "        text-align: right;\n",
       "    }\n",
       "</style>\n",
       "<table border=\"1\" class=\"dataframe\">\n",
       "  <thead>\n",
       "    <tr style=\"text-align: right;\">\n",
       "      <th></th>\n",
       "      <th>id</th>\n",
       "      <th>name</th>\n",
       "      <th>artists</th>\n",
       "      <th>acousticness</th>\n",
       "      <th>danceability</th>\n",
       "      <th>duration_ms</th>\n",
       "      <th>energy</th>\n",
       "      <th>explicit</th>\n",
       "      <th>instrumentalness</th>\n",
       "      <th>key</th>\n",
       "      <th>liveness</th>\n",
       "      <th>loudness</th>\n",
       "      <th>mode</th>\n",
       "      <th>popularity</th>\n",
       "      <th>release_date</th>\n",
       "      <th>speechiness</th>\n",
       "      <th>tempo</th>\n",
       "      <th>valence</th>\n",
       "      <th>year</th>\n",
       "    </tr>\n",
       "  </thead>\n",
       "  <tbody>\n",
       "    <tr>\n",
       "      <th>0</th>\n",
       "      <td>4BJqT0PrAfrxzMOxytFOIz</td>\n",
       "      <td>Piano Concerto No. 3 in D Minor, Op. 30: III. Finale. Alla breve</td>\n",
       "      <td>['Sergei Rachmaninoff', 'James Levine', 'Berliner Philharmoniker']</td>\n",
       "      <td>0.982</td>\n",
       "      <td>0.279</td>\n",
       "      <td>831667</td>\n",
       "      <td>0.211</td>\n",
       "      <td>0</td>\n",
       "      <td>0.878</td>\n",
       "      <td>10</td>\n",
       "      <td>0.665</td>\n",
       "      <td>-20.096</td>\n",
       "      <td>1</td>\n",
       "      <td>4</td>\n",
       "      <td>1921</td>\n",
       "      <td>0.0366</td>\n",
       "      <td>80.954</td>\n",
       "      <td>0.0594</td>\n",
       "      <td>1921</td>\n",
       "    </tr>\n",
       "    <tr>\n",
       "      <th>1</th>\n",
       "      <td>7xPhfUan2yNtyFG0cUWkt8</td>\n",
       "      <td>Clancy Lowered the Boom</td>\n",
       "      <td>['Dennis Day']</td>\n",
       "      <td>0.732</td>\n",
       "      <td>0.819</td>\n",
       "      <td>180533</td>\n",
       "      <td>0.341</td>\n",
       "      <td>0</td>\n",
       "      <td>0.000</td>\n",
       "      <td>7</td>\n",
       "      <td>0.160</td>\n",
       "      <td>-12.441</td>\n",
       "      <td>1</td>\n",
       "      <td>5</td>\n",
       "      <td>1921</td>\n",
       "      <td>0.4150</td>\n",
       "      <td>60.936</td>\n",
       "      <td>0.9630</td>\n",
       "      <td>1921</td>\n",
       "    </tr>\n",
       "  </tbody>\n",
       "</table>\n",
       "</div>"
      ],
      "text/plain": [
       "                       id  \\\n",
       "0  4BJqT0PrAfrxzMOxytFOIz   \n",
       "1  7xPhfUan2yNtyFG0cUWkt8   \n",
       "\n",
       "                                                               name  \\\n",
       "0  Piano Concerto No. 3 in D Minor, Op. 30: III. Finale. Alla breve   \n",
       "1                                           Clancy Lowered the Boom   \n",
       "\n",
       "                                                              artists  \\\n",
       "0  ['Sergei Rachmaninoff', 'James Levine', 'Berliner Philharmoniker']   \n",
       "1                                                      ['Dennis Day']   \n",
       "\n",
       "   acousticness  danceability  duration_ms  energy  explicit  \\\n",
       "0         0.982         0.279       831667   0.211         0   \n",
       "1         0.732         0.819       180533   0.341         0   \n",
       "\n",
       "   instrumentalness  key  liveness  loudness  mode  popularity release_date  \\\n",
       "0             0.878   10     0.665   -20.096     1           4         1921   \n",
       "1             0.000    7     0.160   -12.441     1           5         1921   \n",
       "\n",
       "   speechiness   tempo  valence  year  \n",
       "0       0.0366  80.954   0.0594  1921  \n",
       "1       0.4150  60.936   0.9630  1921  "
      ]
     },
     "execution_count": 53,
     "metadata": {},
     "output_type": "execute_result"
    }
   ],
   "source": [
    "df.head(2)"
   ]
  },
  {
   "cell_type": "code",
   "execution_count": 54,
   "metadata": {},
   "outputs": [],
   "source": [
    "# add \"song_\" prefix to col names\n",
    "song_df = df.add_prefix(\"song_\")"
   ]
  },
  {
   "cell_type": "code",
   "execution_count": 55,
   "metadata": {},
   "outputs": [
    {
     "data": {
      "text/html": [
       "<div>\n",
       "<style scoped>\n",
       "    .dataframe tbody tr th:only-of-type {\n",
       "        vertical-align: middle;\n",
       "    }\n",
       "\n",
       "    .dataframe tbody tr th {\n",
       "        vertical-align: top;\n",
       "    }\n",
       "\n",
       "    .dataframe thead th {\n",
       "        text-align: right;\n",
       "    }\n",
       "</style>\n",
       "<table border=\"1\" class=\"dataframe\">\n",
       "  <thead>\n",
       "    <tr style=\"text-align: right;\">\n",
       "      <th></th>\n",
       "      <th>song_id</th>\n",
       "      <th>song_name</th>\n",
       "      <th>song_artists</th>\n",
       "      <th>song_acousticness</th>\n",
       "      <th>song_danceability</th>\n",
       "      <th>song_duration_ms</th>\n",
       "      <th>song_energy</th>\n",
       "      <th>song_explicit</th>\n",
       "      <th>song_instrumentalness</th>\n",
       "      <th>song_key</th>\n",
       "      <th>song_liveness</th>\n",
       "      <th>song_loudness</th>\n",
       "      <th>song_mode</th>\n",
       "      <th>song_popularity</th>\n",
       "      <th>song_release_date</th>\n",
       "      <th>song_speechiness</th>\n",
       "      <th>song_tempo</th>\n",
       "      <th>song_valence</th>\n",
       "      <th>song_year</th>\n",
       "    </tr>\n",
       "  </thead>\n",
       "  <tbody>\n",
       "    <tr>\n",
       "      <th>0</th>\n",
       "      <td>4BJqT0PrAfrxzMOxytFOIz</td>\n",
       "      <td>Piano Concerto No. 3 in D Minor, Op. 30: III. Finale. Alla breve</td>\n",
       "      <td>['Sergei Rachmaninoff', 'James Levine', 'Berliner Philharmoniker']</td>\n",
       "      <td>0.982</td>\n",
       "      <td>0.279</td>\n",
       "      <td>831667</td>\n",
       "      <td>0.211</td>\n",
       "      <td>0</td>\n",
       "      <td>0.878</td>\n",
       "      <td>10</td>\n",
       "      <td>0.665</td>\n",
       "      <td>-20.096</td>\n",
       "      <td>1</td>\n",
       "      <td>4</td>\n",
       "      <td>1921</td>\n",
       "      <td>0.0366</td>\n",
       "      <td>80.954</td>\n",
       "      <td>0.0594</td>\n",
       "      <td>1921</td>\n",
       "    </tr>\n",
       "  </tbody>\n",
       "</table>\n",
       "</div>"
      ],
      "text/plain": [
       "                  song_id  \\\n",
       "0  4BJqT0PrAfrxzMOxytFOIz   \n",
       "\n",
       "                                                          song_name  \\\n",
       "0  Piano Concerto No. 3 in D Minor, Op. 30: III. Finale. Alla breve   \n",
       "\n",
       "                                                         song_artists  \\\n",
       "0  ['Sergei Rachmaninoff', 'James Levine', 'Berliner Philharmoniker']   \n",
       "\n",
       "   song_acousticness  song_danceability  song_duration_ms  song_energy  \\\n",
       "0              0.982              0.279            831667        0.211   \n",
       "\n",
       "   song_explicit  song_instrumentalness  song_key  song_liveness  \\\n",
       "0              0                  0.878        10          0.665   \n",
       "\n",
       "   song_loudness  song_mode  song_popularity song_release_date  \\\n",
       "0        -20.096          1                4              1921   \n",
       "\n",
       "   song_speechiness  song_tempo  song_valence  song_year  \n",
       "0            0.0366      80.954        0.0594       1921  "
      ]
     },
     "execution_count": 55,
     "metadata": {},
     "output_type": "execute_result"
    }
   ],
   "source": [
    "song_df.head(1)"
   ]
  },
  {
   "cell_type": "code",
   "execution_count": 56,
   "metadata": {},
   "outputs": [],
   "source": [
    "# drop unused cols\n",
    "song_df = song_df.drop(columns=[\"song_id\", \"song_release_date\"])"
   ]
  },
  {
   "cell_type": "code",
   "execution_count": 57,
   "metadata": {},
   "outputs": [],
   "source": [
    "# fix artists list names - remove quotes\n",
    "def fix_artists(str_list):\n",
    "    return \", \".join([v for v in str_list.rstrip(\"']\").lstrip(\"['\").split(\"', '\")])\n",
    "\n",
    "\n",
    "song_df[\"song_artists\"] = song_df[\"song_artists\"].apply(fix_artists)"
   ]
  },
  {
   "cell_type": "code",
   "execution_count": 58,
   "metadata": {},
   "outputs": [
    {
     "data": {
      "text/html": [
       "<div>\n",
       "<style scoped>\n",
       "    .dataframe tbody tr th:only-of-type {\n",
       "        vertical-align: middle;\n",
       "    }\n",
       "\n",
       "    .dataframe tbody tr th {\n",
       "        vertical-align: top;\n",
       "    }\n",
       "\n",
       "    .dataframe thead th {\n",
       "        text-align: right;\n",
       "    }\n",
       "</style>\n",
       "<table border=\"1\" class=\"dataframe\">\n",
       "  <thead>\n",
       "    <tr style=\"text-align: right;\">\n",
       "      <th></th>\n",
       "      <th>song_name</th>\n",
       "      <th>song_artists</th>\n",
       "      <th>song_acousticness</th>\n",
       "      <th>song_danceability</th>\n",
       "      <th>song_duration_ms</th>\n",
       "      <th>song_energy</th>\n",
       "      <th>song_explicit</th>\n",
       "      <th>song_instrumentalness</th>\n",
       "      <th>song_key</th>\n",
       "      <th>song_liveness</th>\n",
       "      <th>song_loudness</th>\n",
       "      <th>song_mode</th>\n",
       "      <th>song_popularity</th>\n",
       "      <th>song_speechiness</th>\n",
       "      <th>song_tempo</th>\n",
       "      <th>song_valence</th>\n",
       "      <th>song_year</th>\n",
       "    </tr>\n",
       "  </thead>\n",
       "  <tbody>\n",
       "    <tr>\n",
       "      <th>0</th>\n",
       "      <td>Piano Concerto No. 3 in D Minor, Op. 30: III. Finale. Alla breve</td>\n",
       "      <td>Sergei Rachmaninoff, James Levine, Berliner Philharmoniker</td>\n",
       "      <td>0.982</td>\n",
       "      <td>0.279</td>\n",
       "      <td>831667</td>\n",
       "      <td>0.211</td>\n",
       "      <td>0</td>\n",
       "      <td>0.878</td>\n",
       "      <td>10</td>\n",
       "      <td>0.665</td>\n",
       "      <td>-20.096</td>\n",
       "      <td>1</td>\n",
       "      <td>4</td>\n",
       "      <td>0.0366</td>\n",
       "      <td>80.954</td>\n",
       "      <td>0.0594</td>\n",
       "      <td>1921</td>\n",
       "    </tr>\n",
       "  </tbody>\n",
       "</table>\n",
       "</div>"
      ],
      "text/plain": [
       "                                                          song_name  \\\n",
       "0  Piano Concerto No. 3 in D Minor, Op. 30: III. Finale. Alla breve   \n",
       "\n",
       "                                                 song_artists  \\\n",
       "0  Sergei Rachmaninoff, James Levine, Berliner Philharmoniker   \n",
       "\n",
       "   song_acousticness  song_danceability  song_duration_ms  song_energy  \\\n",
       "0              0.982              0.279            831667        0.211   \n",
       "\n",
       "   song_explicit  song_instrumentalness  song_key  song_liveness  \\\n",
       "0              0                  0.878        10          0.665   \n",
       "\n",
       "   song_loudness  song_mode  song_popularity  song_speechiness  song_tempo  \\\n",
       "0        -20.096          1                4            0.0366      80.954   \n",
       "\n",
       "   song_valence  song_year  \n",
       "0        0.0594       1921  "
      ]
     },
     "execution_count": 58,
     "metadata": {},
     "output_type": "execute_result"
    }
   ],
   "source": [
    "song_df.head(1)"
   ]
  },
  {
   "cell_type": "code",
   "execution_count": 59,
   "metadata": {},
   "outputs": [],
   "source": [
    "# combine song_name & song_artists into song_description (inserts into the first column \"0\" with a column name song_description)\n",
    "song_df.insert(\n",
    "    0, \"song_description\", song_df[\"song_name\"] + \" - \" + song_df[\"song_artists\"]\n",
    ")"
   ]
  },
  {
   "cell_type": "code",
   "execution_count": 60,
   "metadata": {},
   "outputs": [
    {
     "data": {
      "text/html": [
       "<div>\n",
       "<style scoped>\n",
       "    .dataframe tbody tr th:only-of-type {\n",
       "        vertical-align: middle;\n",
       "    }\n",
       "\n",
       "    .dataframe tbody tr th {\n",
       "        vertical-align: top;\n",
       "    }\n",
       "\n",
       "    .dataframe thead th {\n",
       "        text-align: right;\n",
       "    }\n",
       "</style>\n",
       "<table border=\"1\" class=\"dataframe\">\n",
       "  <thead>\n",
       "    <tr style=\"text-align: right;\">\n",
       "      <th></th>\n",
       "      <th>song_description</th>\n",
       "      <th>song_name</th>\n",
       "      <th>song_artists</th>\n",
       "      <th>song_acousticness</th>\n",
       "      <th>song_danceability</th>\n",
       "      <th>song_duration_ms</th>\n",
       "      <th>song_energy</th>\n",
       "      <th>song_explicit</th>\n",
       "      <th>song_instrumentalness</th>\n",
       "      <th>song_key</th>\n",
       "      <th>song_liveness</th>\n",
       "      <th>song_loudness</th>\n",
       "      <th>song_mode</th>\n",
       "      <th>song_popularity</th>\n",
       "      <th>song_speechiness</th>\n",
       "      <th>song_tempo</th>\n",
       "      <th>song_valence</th>\n",
       "      <th>song_year</th>\n",
       "    </tr>\n",
       "  </thead>\n",
       "  <tbody>\n",
       "    <tr>\n",
       "      <th>0</th>\n",
       "      <td>Piano Concerto No. 3 in D Minor, Op. 30: III. Finale. Alla breve - Sergei Rachmaninoff, James Levine, Berliner Philharmoniker</td>\n",
       "      <td>Piano Concerto No. 3 in D Minor, Op. 30: III. Finale. Alla breve</td>\n",
       "      <td>Sergei Rachmaninoff, James Levine, Berliner Philharmoniker</td>\n",
       "      <td>0.982</td>\n",
       "      <td>0.279</td>\n",
       "      <td>831667</td>\n",
       "      <td>0.211</td>\n",
       "      <td>0</td>\n",
       "      <td>0.878</td>\n",
       "      <td>10</td>\n",
       "      <td>0.665</td>\n",
       "      <td>-20.096</td>\n",
       "      <td>1</td>\n",
       "      <td>4</td>\n",
       "      <td>0.0366</td>\n",
       "      <td>80.954</td>\n",
       "      <td>0.0594</td>\n",
       "      <td>1921</td>\n",
       "    </tr>\n",
       "  </tbody>\n",
       "</table>\n",
       "</div>"
      ],
      "text/plain": [
       "                                                                                                                song_description  \\\n",
       "0  Piano Concerto No. 3 in D Minor, Op. 30: III. Finale. Alla breve - Sergei Rachmaninoff, James Levine, Berliner Philharmoniker   \n",
       "\n",
       "                                                          song_name  \\\n",
       "0  Piano Concerto No. 3 in D Minor, Op. 30: III. Finale. Alla breve   \n",
       "\n",
       "                                                 song_artists  \\\n",
       "0  Sergei Rachmaninoff, James Levine, Berliner Philharmoniker   \n",
       "\n",
       "   song_acousticness  song_danceability  song_duration_ms  song_energy  \\\n",
       "0              0.982              0.279            831667        0.211   \n",
       "\n",
       "   song_explicit  song_instrumentalness  song_key  song_liveness  \\\n",
       "0              0                  0.878        10          0.665   \n",
       "\n",
       "   song_loudness  song_mode  song_popularity  song_speechiness  song_tempo  \\\n",
       "0        -20.096          1                4            0.0366      80.954   \n",
       "\n",
       "   song_valence  song_year  \n",
       "0        0.0594       1921  "
      ]
     },
     "execution_count": 60,
     "metadata": {},
     "output_type": "execute_result"
    }
   ],
   "source": [
    "song_df.head(1)"
   ]
  },
  {
   "cell_type": "code",
   "execution_count": 61,
   "metadata": {},
   "outputs": [],
   "source": [
    "# remove duplicate rows\n",
    "song_data = song_df[\n",
    "    ~song_df.duplicated(subset=[\"song_description\"], keep=\"first\")\n",
    "].reset_index(drop=True)"
   ]
  },
  {
   "cell_type": "code",
   "execution_count": 62,
   "metadata": {},
   "outputs": [
    {
     "name": "stdout",
     "output_type": "stream",
     "text": [
      "(157685, 18)\n"
     ]
    },
    {
     "data": {
      "text/html": [
       "<div>\n",
       "<style scoped>\n",
       "    .dataframe tbody tr th:only-of-type {\n",
       "        vertical-align: middle;\n",
       "    }\n",
       "\n",
       "    .dataframe tbody tr th {\n",
       "        vertical-align: top;\n",
       "    }\n",
       "\n",
       "    .dataframe thead th {\n",
       "        text-align: right;\n",
       "    }\n",
       "</style>\n",
       "<table border=\"1\" class=\"dataframe\">\n",
       "  <thead>\n",
       "    <tr style=\"text-align: right;\">\n",
       "      <th></th>\n",
       "      <th>song_description</th>\n",
       "      <th>song_name</th>\n",
       "      <th>song_artists</th>\n",
       "      <th>song_acousticness</th>\n",
       "      <th>song_danceability</th>\n",
       "      <th>song_duration_ms</th>\n",
       "      <th>song_energy</th>\n",
       "      <th>song_explicit</th>\n",
       "      <th>song_instrumentalness</th>\n",
       "      <th>song_key</th>\n",
       "      <th>song_liveness</th>\n",
       "      <th>song_loudness</th>\n",
       "      <th>song_mode</th>\n",
       "      <th>song_popularity</th>\n",
       "      <th>song_speechiness</th>\n",
       "      <th>song_tempo</th>\n",
       "      <th>song_valence</th>\n",
       "      <th>song_year</th>\n",
       "    </tr>\n",
       "  </thead>\n",
       "  <tbody>\n",
       "    <tr>\n",
       "      <th>0</th>\n",
       "      <td>Piano Concerto No. 3 in D Minor, Op. 30: III. Finale. Alla breve - Sergei Rachmaninoff, James Levine, Berliner Philharmoniker</td>\n",
       "      <td>Piano Concerto No. 3 in D Minor, Op. 30: III. Finale. Alla breve</td>\n",
       "      <td>Sergei Rachmaninoff, James Levine, Berliner Philharmoniker</td>\n",
       "      <td>0.982</td>\n",
       "      <td>0.279</td>\n",
       "      <td>831667</td>\n",
       "      <td>0.211</td>\n",
       "      <td>0</td>\n",
       "      <td>0.878000</td>\n",
       "      <td>10</td>\n",
       "      <td>0.665</td>\n",
       "      <td>-20.096</td>\n",
       "      <td>1</td>\n",
       "      <td>4</td>\n",
       "      <td>0.0366</td>\n",
       "      <td>80.954</td>\n",
       "      <td>0.0594</td>\n",
       "      <td>1921</td>\n",
       "    </tr>\n",
       "    <tr>\n",
       "      <th>1</th>\n",
       "      <td>Clancy Lowered the Boom - Dennis Day</td>\n",
       "      <td>Clancy Lowered the Boom</td>\n",
       "      <td>Dennis Day</td>\n",
       "      <td>0.732</td>\n",
       "      <td>0.819</td>\n",
       "      <td>180533</td>\n",
       "      <td>0.341</td>\n",
       "      <td>0</td>\n",
       "      <td>0.000000</td>\n",
       "      <td>7</td>\n",
       "      <td>0.160</td>\n",
       "      <td>-12.441</td>\n",
       "      <td>1</td>\n",
       "      <td>5</td>\n",
       "      <td>0.4150</td>\n",
       "      <td>60.936</td>\n",
       "      <td>0.9630</td>\n",
       "      <td>1921</td>\n",
       "    </tr>\n",
       "    <tr>\n",
       "      <th>2</th>\n",
       "      <td>Gati Bali - KHP Kridhamardawa Karaton Ngayogyakarta Hadiningrat</td>\n",
       "      <td>Gati Bali</td>\n",
       "      <td>KHP Kridhamardawa Karaton Ngayogyakarta Hadiningrat</td>\n",
       "      <td>0.961</td>\n",
       "      <td>0.328</td>\n",
       "      <td>500062</td>\n",
       "      <td>0.166</td>\n",
       "      <td>0</td>\n",
       "      <td>0.913000</td>\n",
       "      <td>3</td>\n",
       "      <td>0.101</td>\n",
       "      <td>-14.850</td>\n",
       "      <td>1</td>\n",
       "      <td>5</td>\n",
       "      <td>0.0339</td>\n",
       "      <td>110.339</td>\n",
       "      <td>0.0394</td>\n",
       "      <td>1921</td>\n",
       "    </tr>\n",
       "    <tr>\n",
       "      <th>3</th>\n",
       "      <td>Danny Boy - Frank Parker</td>\n",
       "      <td>Danny Boy</td>\n",
       "      <td>Frank Parker</td>\n",
       "      <td>0.967</td>\n",
       "      <td>0.275</td>\n",
       "      <td>210000</td>\n",
       "      <td>0.309</td>\n",
       "      <td>0</td>\n",
       "      <td>0.000028</td>\n",
       "      <td>5</td>\n",
       "      <td>0.381</td>\n",
       "      <td>-9.316</td>\n",
       "      <td>1</td>\n",
       "      <td>3</td>\n",
       "      <td>0.0354</td>\n",
       "      <td>100.109</td>\n",
       "      <td>0.1650</td>\n",
       "      <td>1921</td>\n",
       "    </tr>\n",
       "    <tr>\n",
       "      <th>4</th>\n",
       "      <td>When Irish Eyes Are Smiling - Phil Regan</td>\n",
       "      <td>When Irish Eyes Are Smiling</td>\n",
       "      <td>Phil Regan</td>\n",
       "      <td>0.957</td>\n",
       "      <td>0.418</td>\n",
       "      <td>166693</td>\n",
       "      <td>0.193</td>\n",
       "      <td>0</td>\n",
       "      <td>0.000002</td>\n",
       "      <td>3</td>\n",
       "      <td>0.229</td>\n",
       "      <td>-10.096</td>\n",
       "      <td>1</td>\n",
       "      <td>2</td>\n",
       "      <td>0.0380</td>\n",
       "      <td>101.665</td>\n",
       "      <td>0.2530</td>\n",
       "      <td>1921</td>\n",
       "    </tr>\n",
       "  </tbody>\n",
       "</table>\n",
       "</div>"
      ],
      "text/plain": [
       "                                                                                                                song_description  \\\n",
       "0  Piano Concerto No. 3 in D Minor, Op. 30: III. Finale. Alla breve - Sergei Rachmaninoff, James Levine, Berliner Philharmoniker   \n",
       "1                                                                                           Clancy Lowered the Boom - Dennis Day   \n",
       "2                                                                Gati Bali - KHP Kridhamardawa Karaton Ngayogyakarta Hadiningrat   \n",
       "3                                                                                                       Danny Boy - Frank Parker   \n",
       "4                                                                                       When Irish Eyes Are Smiling - Phil Regan   \n",
       "\n",
       "                                                          song_name  \\\n",
       "0  Piano Concerto No. 3 in D Minor, Op. 30: III. Finale. Alla breve   \n",
       "1                                           Clancy Lowered the Boom   \n",
       "2                                                         Gati Bali   \n",
       "3                                                         Danny Boy   \n",
       "4                                       When Irish Eyes Are Smiling   \n",
       "\n",
       "                                                 song_artists  \\\n",
       "0  Sergei Rachmaninoff, James Levine, Berliner Philharmoniker   \n",
       "1                                                  Dennis Day   \n",
       "2         KHP Kridhamardawa Karaton Ngayogyakarta Hadiningrat   \n",
       "3                                                Frank Parker   \n",
       "4                                                  Phil Regan   \n",
       "\n",
       "   song_acousticness  song_danceability  song_duration_ms  song_energy  \\\n",
       "0              0.982              0.279            831667        0.211   \n",
       "1              0.732              0.819            180533        0.341   \n",
       "2              0.961              0.328            500062        0.166   \n",
       "3              0.967              0.275            210000        0.309   \n",
       "4              0.957              0.418            166693        0.193   \n",
       "\n",
       "   song_explicit  song_instrumentalness  song_key  song_liveness  \\\n",
       "0              0               0.878000        10          0.665   \n",
       "1              0               0.000000         7          0.160   \n",
       "2              0               0.913000         3          0.101   \n",
       "3              0               0.000028         5          0.381   \n",
       "4              0               0.000002         3          0.229   \n",
       "\n",
       "   song_loudness  song_mode  song_popularity  song_speechiness  song_tempo  \\\n",
       "0        -20.096          1                4            0.0366      80.954   \n",
       "1        -12.441          1                5            0.4150      60.936   \n",
       "2        -14.850          1                5            0.0339     110.339   \n",
       "3         -9.316          1                3            0.0354     100.109   \n",
       "4        -10.096          1                2            0.0380     101.665   \n",
       "\n",
       "   song_valence  song_year  \n",
       "0        0.0594       1921  \n",
       "1        0.9630       1921  \n",
       "2        0.0394       1921  \n",
       "3        0.1650       1921  \n",
       "4        0.2530       1921  "
      ]
     },
     "execution_count": 62,
     "metadata": {},
     "output_type": "execute_result"
    }
   ],
   "source": [
    "show_df(song_data)"
   ]
  },
  {
   "cell_type": "markdown",
   "metadata": {},
   "source": [
    "## Creating vector embeddings using word2vec"
   ]
  },
  {
   "cell_type": "code",
   "execution_count": 63,
   "metadata": {},
   "outputs": [],
   "source": [
    "# tokenize the descriptions\n",
    "tokenised_song_descs = [word_tokenize(v.lower()) for v in song_data[\"song_description\"]]"
   ]
  },
  {
   "cell_type": "code",
   "execution_count": 65,
   "metadata": {},
   "outputs": [],
   "source": [
    "# create embedding model\n",
    "embedding_dim = 15\n",
    "\n",
    "word2Vec_model = Word2Vec(\n",
    "    sentences=tokenised_song_descs,\n",
    "    vector_size=embedding_dim,\n",
    "    window=5,\n",
    "    min_count=1,\n",
    "    sg=1,\n",
    ")"
   ]
  },
  {
   "cell_type": "markdown",
   "metadata": {},
   "source": [
    "* vector_size: The dimensionality of the word vectors. In your code, you've set it to 15, meaning each word in the vocabulary will be represented by a vector of 15 dimensions.\n",
    "\n",
    "* window: The maximum distance between the current and predicted word within a sentence. It is set to 5, meaning the model will consider up to 5 words before and after the current word in a sentence.\n",
    "\n",
    "* min_count: Ignores all words with a total frequency lower than this. You've set it to 1, meaning all words, regardless of frequency, will be considered.\n",
    "\n",
    "* sg: The training algorithm. 1 represents the Skip-gram model, while 0 represents CBOW (Continuous Bag of Words). You've chosen Skip-gram (sg=1)."
   ]
  },
  {
   "cell_type": "code",
   "execution_count": 66,
   "metadata": {},
   "outputs": [],
   "source": [
    "# function to create embedding vector from tokens\n",
    "def get_embedding(song_desc_tokens, model, embedding_dim):\n",
    "    vectors = [model.wv[token] for token in song_desc_tokens if token in model.wv]\n",
    "\n",
    "    # Average of word vectors OR zeros if no valid tokens found\n",
    "    return sum(vectors) / len(vectors) if vectors else [0] * embedding_dim"
   ]
  },
  {
   "cell_type": "code",
   "execution_count": 67,
   "metadata": {},
   "outputs": [],
   "source": [
    "# embed song descriptions as vectors\n",
    "categorical_embeddings = [\n",
    "    get_embedding(song_desc_tokens, word2Vec_model, embedding_dim)\n",
    "    for song_desc_tokens in tokenised_song_descs\n",
    "]\n"
   ]
  },
  {
   "cell_type": "code",
   "execution_count": 68,
   "metadata": {},
   "outputs": [
    {
     "name": "stdout",
     "output_type": "stream",
     "text": [
      "Num Embeddings: 157685\n",
      "Embedding Size: 15\n"
     ]
    },
    {
     "data": {
      "text/plain": [
       "[-1.2723106,\n",
       " 1.1312245,\n",
       " 1.4379098,\n",
       " -0.78529704,\n",
       " 0.31583238,\n",
       " 0.07468923,\n",
       " -1.3993856,\n",
       " -0.12268966,\n",
       " -0.6210166,\n",
       " 1.1861943,\n",
       " 0.8000995,\n",
       " 0.4178811,\n",
       " 0.3717347,\n",
       " -0.8247968,\n",
       " -0.9515019]"
      ]
     },
     "execution_count": 68,
     "metadata": {},
     "output_type": "execute_result"
    }
   ],
   "source": [
    "show_embeddings(categorical_embeddings)\n"
   ]
  },
  {
   "cell_type": "markdown",
   "metadata": {},
   "source": [
    "## Embed Numeric songs Metadata"
   ]
  },
  {
   "cell_type": "code",
   "execution_count": 69,
   "metadata": {},
   "outputs": [
    {
     "data": {
      "text/plain": [
       "['song_acousticness',\n",
       " 'song_danceability',\n",
       " 'song_duration_ms',\n",
       " 'song_energy',\n",
       " 'song_explicit',\n",
       " 'song_instrumentalness',\n",
       " 'song_key',\n",
       " 'song_liveness',\n",
       " 'song_loudness',\n",
       " 'song_mode',\n",
       " 'song_popularity',\n",
       " 'song_speechiness',\n",
       " 'song_tempo',\n",
       " 'song_valence',\n",
       " 'song_year']"
      ]
     },
     "execution_count": 69,
     "metadata": {},
     "output_type": "execute_result"
    }
   ],
   "source": [
    "# extract numeric columns\n",
    "numeric_cols = list(\n",
    "    song_data.drop(columns=[\"song_name\", \"song_artists\", \"song_description\"]).columns\n",
    ")\n",
    "numeric_cols"
   ]
  },
  {
   "cell_type": "code",
   "execution_count": 71,
   "metadata": {},
   "outputs": [],
   "source": [
    "# scale these columns\n",
    "scaled_numeric_cols = [\n",
    "    (song_data[col] - song_data[col].mean()) / np.std(song_data[col])\n",
    "    for col in numeric_cols\n",
    "]"
   ]
  },
  {
   "cell_type": "code",
   "execution_count": 72,
   "metadata": {},
   "outputs": [],
   "source": [
    "#transpose the array to get row embeddings\n",
    "numeric_embeddings = list(map(list, zip(*scaled_numeric_cols)))\n"
   ]
  },
  {
   "cell_type": "code",
   "execution_count": 74,
   "metadata": {},
   "outputs": [
    {
     "name": "stdout",
     "output_type": "stream",
     "text": [
      "Num Embeddings: 157685\n",
      "Embedding Size: 15\n"
     ]
    },
    {
     "data": {
      "text/plain": [
       "[1.2703070294949106,\n",
       " -1.461259048884883,\n",
       " 4.752569009266444,\n",
       " -1.007676175100162,\n",
       " -0.3092011481361043,\n",
       " 2.262496351074803,\n",
       " 1.3649563314116429,\n",
       " 2.6110012104955738,\n",
       " -1.5078176079821606,\n",
       " 0.6453499264358126,\n",
       " -1.2499471942272533,\n",
       " -0.38364744367670833,\n",
       " -1.1655450558051375,\n",
       " -1.7786347004763523,\n",
       " -2.142666230649]"
      ]
     },
     "execution_count": 74,
     "metadata": {},
     "output_type": "execute_result"
    }
   ],
   "source": [
    "\n",
    "show_embeddings(numeric_embeddings)"
   ]
  },
  {
   "cell_type": "markdown",
   "metadata": {},
   "source": [
    "## Merge Categorical & Numeric Embeddings"
   ]
  },
  {
   "cell_type": "code",
   "execution_count": 75,
   "metadata": {},
   "outputs": [],
   "source": [
    "row_embeddings = [\n",
    "    np.concatenate([cat_row, num_row])\n",
    "    for cat_row, num_row in zip(categorical_embeddings, numeric_embeddings)\n",
    "]"
   ]
  },
  {
   "cell_type": "code",
   "execution_count": 76,
   "metadata": {},
   "outputs": [
    {
     "name": "stdout",
     "output_type": "stream",
     "text": [
      "Num Embeddings: 157685\n",
      "Embedding Size: 30\n"
     ]
    },
    {
     "data": {
      "text/plain": [
       "[-1.2723106145858765,\n",
       " 1.131224513053894,\n",
       " 1.4379098415374756,\n",
       " -0.7852970361709595,\n",
       " 0.31583237648010254,\n",
       " 0.07468923181295395,\n",
       " -1.3993855714797974,\n",
       " -0.12268965691328049,\n",
       " -0.6210166215896606,\n",
       " 1.1861943006515503,\n",
       " 0.8000994920730591,\n",
       " 0.4178811013698578,\n",
       " 0.37173470854759216,\n",
       " -0.8247967958450317,\n",
       " -0.9515019059181213,\n",
       " 1.2703070294949106,\n",
       " -1.461259048884883,\n",
       " 4.752569009266444,\n",
       " -1.007676175100162,\n",
       " -0.3092011481361043,\n",
       " 2.262496351074803,\n",
       " 1.3649563314116429,\n",
       " 2.6110012104955738,\n",
       " -1.5078176079821606,\n",
       " 0.6453499264358126,\n",
       " -1.2499471942272533,\n",
       " -0.38364744367670833,\n",
       " -1.1655450558051375,\n",
       " -1.7786347004763523,\n",
       " -2.142666230649]"
      ]
     },
     "execution_count": 76,
     "metadata": {},
     "output_type": "execute_result"
    }
   ],
   "source": [
    "show_embeddings(row_embeddings)"
   ]
  },
  {
   "cell_type": "markdown",
   "metadata": {},
   "source": [
    "## Create DataFrame With Embeddings\n"
   ]
  },
  {
   "cell_type": "code",
   "execution_count": 78,
   "metadata": {},
   "outputs": [],
   "source": [
    "embedded_song_df = song_data[[\"song_name\", \"song_artists\", \"song_year\"]]\n"
   ]
  },
  {
   "cell_type": "code",
   "execution_count": 79,
   "metadata": {},
   "outputs": [],
   "source": [
    "embedded_song_df[\"song_embeddings\"] = row_embeddings"
   ]
  },
  {
   "cell_type": "code",
   "execution_count": 80,
   "metadata": {},
   "outputs": [
    {
     "name": "stdout",
     "output_type": "stream",
     "text": [
      "(157685, 4)\n"
     ]
    },
    {
     "data": {
      "text/html": [
       "<div>\n",
       "<style scoped>\n",
       "    .dataframe tbody tr th:only-of-type {\n",
       "        vertical-align: middle;\n",
       "    }\n",
       "\n",
       "    .dataframe tbody tr th {\n",
       "        vertical-align: top;\n",
       "    }\n",
       "\n",
       "    .dataframe thead th {\n",
       "        text-align: right;\n",
       "    }\n",
       "</style>\n",
       "<table border=\"1\" class=\"dataframe\">\n",
       "  <thead>\n",
       "    <tr style=\"text-align: right;\">\n",
       "      <th></th>\n",
       "      <th>song_name</th>\n",
       "      <th>song_artists</th>\n",
       "      <th>song_year</th>\n",
       "      <th>song_embeddings</th>\n",
       "    </tr>\n",
       "  </thead>\n",
       "  <tbody>\n",
       "    <tr>\n",
       "      <th>0</th>\n",
       "      <td>Piano Concerto No. 3 in D Minor, Op. 30: III. Finale. Alla breve</td>\n",
       "      <td>Sergei Rachmaninoff, James Levine, Berliner Philharmoniker</td>\n",
       "      <td>1921</td>\n",
       "      <td>[-1.2723106145858765, 1.131224513053894, 1.4379098415374756, -0.7852970361709595, 0.31583237648010254, 0.07468923181295395, -1.3993855714797974, -0.12268965691328049, -0.6210166215896606, 1.1861943006515503, 0.8000994920730591, 0.4178811013698578, 0.37173470854759216, -0.8247967958450317, -0.9515019059181213, 1.2703070294949106, -1.461259048884883, 4.752569009266444, -1.007676175100162, -0.3092011481361043, 2.262496351074803, 1.3649563314116429, 2.6110012104955738, -1.5078176079821606, 0.6453499264358126, -1.2499471942272533, -0.38364744367670833, -1.1655450558051375, -1.7786347004763523, -2.142666230649]</td>\n",
       "    </tr>\n",
       "    <tr>\n",
       "      <th>1</th>\n",
       "      <td>Clancy Lowered the Boom</td>\n",
       "      <td>Dennis Day</td>\n",
       "      <td>1921</td>\n",
       "      <td>[-0.40999463200569153, 0.6959466338157654, 1.3106187582015991, -0.18623998761177063, 0.5852393507957458, 0.793241024017334, -0.7502458691596985, 0.13912875950336456, -0.18899276852607727, -0.19216479361057281, 0.7288581728935242, 0.45597043633461, 0.506697952747345, -0.6630322337150574, 0.12824217975139618, 0.6055353575765545, 1.600008527700499, -0.3958314054754836, -0.5219481676317469, -0.3092011481361043, -0.5349944602375606, 0.5117210944216953, -0.26640400859153673, -0.1646257835500665, 0.6453499264358126, -1.2044048830284118, 1.872793548131166, -1.8164526201212032, 1.6541851866630062, -2.142666230649]</td>\n",
       "    </tr>\n",
       "    <tr>\n",
       "      <th>2</th>\n",
       "      <td>Gati Bali</td>\n",
       "      <td>KHP Kridhamardawa Karaton Ngayogyakarta Hadiningrat</td>\n",
       "      <td>1921</td>\n",
       "      <td>[-0.5067959427833557, 0.5816471576690674, 0.09128624945878983, 0.3559354841709137, 0.9136020541191101, 0.3209366202354431, 0.13632585108280182, -0.13376779854297638, -0.21252591907978058, 0.24724194407463074, 0.7367221117019653, 0.3116314709186554, 0.28201544284820557, 0.49553152918815613, -1.067232608795166, 1.2144662090537686, -1.183477361379913, 2.1306274127125904, -1.1758127930699978, -0.3092011481361043, 2.374013638541697, -0.6259258882315683, -0.6025761034947833, -0.5873232499193564, 0.6453499264358126, -1.2044048830284118, -0.3997478418740689, -0.21005905433508043, -1.854615663007104, -2.142666230649]</td>\n",
       "    </tr>\n",
       "    <tr>\n",
       "      <th>3</th>\n",
       "      <td>Danny Boy</td>\n",
       "      <td>Frank Parker</td>\n",
       "      <td>1921</td>\n",
       "      <td>[-0.6843708753585815, 0.8865038156509399, 1.6762135028839111, -0.4014073312282562, 0.3611453175544739, 0.8218395113945007, -0.8597976565361023, 0.18321572244167328, -0.1815173625946045, 0.050726450979709625, 1.0371406078338623, 0.24682621657848358, 0.7631543874740601, -0.8319379091262817, 0.26675304770469666, 1.2304207291798093, -1.4839351050077376, -0.16284109162119192, -0.6415119848547415, -0.3092011481361043, -0.5349062022700511, -0.05710239690493648, 0.9928168892663868, 0.3837053008849818, 0.6453499264358126, -1.295489505426095, -0.39080317620886856, -0.5426988976237884, -1.3774552183139837, -2.142666230649]</td>\n",
       "    </tr>\n",
       "    <tr>\n",
       "      <th>4</th>\n",
       "      <td>When Irish Eyes Are Smiling</td>\n",
       "      <td>Phil Regan</td>\n",
       "      <td>1921</td>\n",
       "      <td>[-0.38810786604881287, 0.8657161593437195, 0.9275007843971252, -0.19844864308834076, 0.9640052318572998, 0.5460641384124756, -0.9974623322486877, 0.51706862449646, -0.12801410257816315, -0.2778356969356537, 1.3121838569641113, 0.14594393968582153, 0.559045672416687, -0.8403735756874084, 0.12305394560098648, 1.203829862303075, -0.6732660986156829, -0.5052618172494476, -1.0749308222880962, -0.3092011481361043, -0.5349891074077622, -0.6259258882315683, 0.12674640748175162, 0.24684186220999385, 0.6453499264358126, -1.3410318166249366, -0.3752990890558546, -0.4921038246856425, -1.0431389831786766, -2.142666230649]</td>\n",
       "    </tr>\n",
       "  </tbody>\n",
       "</table>\n",
       "</div>"
      ],
      "text/plain": [
       "                                                          song_name  \\\n",
       "0  Piano Concerto No. 3 in D Minor, Op. 30: III. Finale. Alla breve   \n",
       "1                                           Clancy Lowered the Boom   \n",
       "2                                                         Gati Bali   \n",
       "3                                                         Danny Boy   \n",
       "4                                       When Irish Eyes Are Smiling   \n",
       "\n",
       "                                                 song_artists  song_year  \\\n",
       "0  Sergei Rachmaninoff, James Levine, Berliner Philharmoniker       1921   \n",
       "1                                                  Dennis Day       1921   \n",
       "2         KHP Kridhamardawa Karaton Ngayogyakarta Hadiningrat       1921   \n",
       "3                                                Frank Parker       1921   \n",
       "4                                                  Phil Regan       1921   \n",
       "\n",
       "                                                                                                                                                                                                                                                                                                                                                                                                                                                                                                                                                                                                                               song_embeddings  \n",
       "0         [-1.2723106145858765, 1.131224513053894, 1.4379098415374756, -0.7852970361709595, 0.31583237648010254, 0.07468923181295395, -1.3993855714797974, -0.12268965691328049, -0.6210166215896606, 1.1861943006515503, 0.8000994920730591, 0.4178811013698578, 0.37173470854759216, -0.8247967958450317, -0.9515019059181213, 1.2703070294949106, -1.461259048884883, 4.752569009266444, -1.007676175100162, -0.3092011481361043, 2.262496351074803, 1.3649563314116429, 2.6110012104955738, -1.5078176079821606, 0.6453499264358126, -1.2499471942272533, -0.38364744367670833, -1.1655450558051375, -1.7786347004763523, -2.142666230649]  \n",
       "1         [-0.40999463200569153, 0.6959466338157654, 1.3106187582015991, -0.18623998761177063, 0.5852393507957458, 0.793241024017334, -0.7502458691596985, 0.13912875950336456, -0.18899276852607727, -0.19216479361057281, 0.7288581728935242, 0.45597043633461, 0.506697952747345, -0.6630322337150574, 0.12824217975139618, 0.6055353575765545, 1.600008527700499, -0.3958314054754836, -0.5219481676317469, -0.3092011481361043, -0.5349944602375606, 0.5117210944216953, -0.26640400859153673, -0.1646257835500665, 0.6453499264358126, -1.2044048830284118, 1.872793548131166, -1.8164526201212032, 1.6541851866630062, -2.142666230649]  \n",
       "2      [-0.5067959427833557, 0.5816471576690674, 0.09128624945878983, 0.3559354841709137, 0.9136020541191101, 0.3209366202354431, 0.13632585108280182, -0.13376779854297638, -0.21252591907978058, 0.24724194407463074, 0.7367221117019653, 0.3116314709186554, 0.28201544284820557, 0.49553152918815613, -1.067232608795166, 1.2144662090537686, -1.183477361379913, 2.1306274127125904, -1.1758127930699978, -0.3092011481361043, 2.374013638541697, -0.6259258882315683, -0.6025761034947833, -0.5873232499193564, 0.6453499264358126, -1.2044048830284118, -0.3997478418740689, -0.21005905433508043, -1.854615663007104, -2.142666230649]  \n",
       "3  [-0.6843708753585815, 0.8865038156509399, 1.6762135028839111, -0.4014073312282562, 0.3611453175544739, 0.8218395113945007, -0.8597976565361023, 0.18321572244167328, -0.1815173625946045, 0.050726450979709625, 1.0371406078338623, 0.24682621657848358, 0.7631543874740601, -0.8319379091262817, 0.26675304770469666, 1.2304207291798093, -1.4839351050077376, -0.16284109162119192, -0.6415119848547415, -0.3092011481361043, -0.5349062022700511, -0.05710239690493648, 0.9928168892663868, 0.3837053008849818, 0.6453499264358126, -1.295489505426095, -0.39080317620886856, -0.5426988976237884, -1.3774552183139837, -2.142666230649]  \n",
       "4     [-0.38810786604881287, 0.8657161593437195, 0.9275007843971252, -0.19844864308834076, 0.9640052318572998, 0.5460641384124756, -0.9974623322486877, 0.51706862449646, -0.12801410257816315, -0.2778356969356537, 1.3121838569641113, 0.14594393968582153, 0.559045672416687, -0.8403735756874084, 0.12305394560098648, 1.203829862303075, -0.6732660986156829, -0.5052618172494476, -1.0749308222880962, -0.3092011481361043, -0.5349891074077622, -0.6259258882315683, 0.12674640748175162, 0.24684186220999385, 0.6453499264358126, -1.3410318166249366, -0.3752990890558546, -0.4921038246856425, -1.0431389831786766, -2.142666230649]  "
      ]
     },
     "execution_count": 80,
     "metadata": {},
     "output_type": "execute_result"
    }
   ],
   "source": [
    "show_df(embedded_song_df)"
   ]
  },
  {
   "cell_type": "markdown",
   "metadata": {},
   "source": [
    "## Store Embeddings In KDB.AI"
   ]
  },
  {
   "cell_type": "markdown",
   "metadata": {},
   "source": [
    "KDB.AI comes in two offerings:\n",
    "\n",
    "KDB.AI Cloud - For experimenting with smaller generative AI projects with a vector database in our cloud.\n",
    "KDB.AI Server - For evaluating large scale generative AI applications on-premises or on your own cloud provider.\n",
    "Depending on which you use there will be different setup steps and connection details required.\n",
    "\n",
    "Option 1. KDB.AI Cloud\n",
    "To use KDB.AI Cloud, you will need two session details - a URL endpoint and an API key. To get these you can sign up for free here.\n",
    "\n",
    "You can connect to a KDB.AI Cloud session using kdbai.Session and passing the session URL endpoint and API key details from your KDB.AI Cloud portal.\n",
    "\n",
    "If the environment variables KDBAI_ENDPOINTS and KDBAI_API_KEY exist on your system containing your KDB.AI Cloud portal details, these variables will automatically be used to connect. If these do not exist, it will prompt you to enter your KDB.AI Cloud portal session URL endpoint and API key details."
   ]
  },
  {
   "cell_type": "code",
   "execution_count": 82,
   "metadata": {},
   "outputs": [],
   "source": [
    "KDBAI_ENDPOINT = (\n",
    "    os.environ[\"KDBAI_ENDPOINT\"]\n",
    "    if \"KDBAI_ENDPOINT\" in os.environ\n",
    "    else input(\"KDB.AI endpoint: \")\n",
    ")\n",
    "KDBAI_API_KEY = (\n",
    "    os.environ[\"KDBAI_API_KEY\"]\n",
    "    if \"KDBAI_API_KEY\" in os.environ\n",
    "    else getpass(\"KDB.AI API key: \")\n",
    ")"
   ]
  },
  {
   "cell_type": "code",
   "execution_count": 83,
   "metadata": {},
   "outputs": [],
   "source": [
    "session = kdbai.Session(api_key=KDBAI_API_KEY, endpoint=KDBAI_ENDPOINT)\n"
   ]
  },
  {
   "cell_type": "markdown",
   "metadata": {},
   "source": [
    "## Define Vector DB Table Schema"
   ]
  },
  {
   "cell_type": "markdown",
   "metadata": {},
   "source": [
    "our table will have four columns:\n",
    "\n",
    "* Song Name\n",
    "* Song Artists\n",
    "* Song Year\n",
    "* Song Embeddings\n",
    "\n",
    "* When defining the schema, we must supply the types of these columns. We can use the .dtypes() function on the defined Pandas DataFrame to help with this."
   ]
  },
  {
   "cell_type": "code",
   "execution_count": 85,
   "metadata": {},
   "outputs": [
    {
     "data": {
      "text/plain": [
       "song_name          object\n",
       "song_artists       object\n",
       "song_year           int64\n",
       "song_embeddings    object\n",
       "dtype: object"
      ]
     },
     "execution_count": 85,
     "metadata": {},
     "output_type": "execute_result"
    }
   ],
   "source": [
    "embedded_song_df.dtypes"
   ]
  },
  {
   "cell_type": "code",
   "execution_count": 86,
   "metadata": {},
   "outputs": [],
   "source": [
    "schema = {\n",
    "    \"columns\": [\n",
    "        {\n",
    "            \"name\": \"song_name\",\n",
    "            \"pytype\": \"str\",\n",
    "        },\n",
    "        {\n",
    "            \"name\": \"song_artists\",\n",
    "            \"pytype\": \"str\",\n",
    "        },\n",
    "        {\n",
    "            \"name\": \"song_year\",\n",
    "            \"pytype\": \"int64\",\n",
    "        },\n",
    "        {\n",
    "            \"name\": \"song_embeddings\",\n",
    "            \"vectorIndex\": {\n",
    "                \"dims\": len(numeric_cols) + embedding_dim,\n",
    "                \"metric\": \"L2\",\n",
    "                \"type\": \"flat\",\n",
    "            },\n",
    "        },\n",
    "    ]\n",
    "}"
   ]
  },
  {
   "cell_type": "markdown",
   "metadata": {},
   "source": [
    "## Create vector DB table"
   ]
  },
  {
   "cell_type": "code",
   "execution_count": 87,
   "metadata": {},
   "outputs": [],
   "source": [
    "# First ensure the table does not already exist\n",
    "try:\n",
    "    session.table(\"songs\").drop()\n",
    "    time.sleep(5)\n",
    "except kdbai.KDBAIException:\n",
    "    pass"
   ]
  },
  {
   "cell_type": "code",
   "execution_count": 88,
   "metadata": {},
   "outputs": [],
   "source": [
    "table = session.create_table(\"songs\", schema)\n"
   ]
  },
  {
   "cell_type": "markdown",
   "metadata": {},
   "source": [
    "## Add Embedded Data to KDB.AI Table\n",
    "\n",
    "* When adding larger amounts of data, you should insert data into an index in chunks.\n",
    "\n",
    "* It is a good idea to first get an idea of how large your dataset to insert is."
   ]
  },
  {
   "cell_type": "code",
   "execution_count": 89,
   "metadata": {},
   "outputs": [
    {
     "data": {
      "text/plain": [
       "79.63715744018555"
      ]
     },
     "execution_count": 89,
     "metadata": {},
     "output_type": "execute_result"
    }
   ],
   "source": [
    "embedded_song_df.memory_usage(deep=True).sum() / (1024**2)\n"
   ]
  },
  {
   "cell_type": "markdown",
   "metadata": {},
   "source": [
    "* This dataset is 80MB which exceeds the insert limit of <10MB at a time. As such, we'll insert this data in chunks, inserting 10,000 rows at a time."
   ]
  },
  {
   "cell_type": "markdown",
   "metadata": {},
   "source": [
    "## Inserting in chunks"
   ]
  },
  {
   "cell_type": "code",
   "execution_count": 92,
   "metadata": {},
   "outputs": [],
   "source": [
    "chunk_size = 10_000"
   ]
  },
  {
   "cell_type": "code",
   "execution_count": 93,
   "metadata": {},
   "outputs": [
    {
     "data": {
      "application/vnd.jupyter.widget-view+json": {
       "model_id": "7aa01389d85b43ac9cabfc83c721a252",
       "version_major": 2,
       "version_minor": 0
      },
      "text/plain": [
       "  0%|          | 0/16 [00:00<?, ?it/s]"
      ]
     },
     "metadata": {},
     "output_type": "display_data"
    }
   ],
   "source": [
    "for i in tqdm(range((len(embedded_song_df) // chunk_size) + 1)):\n",
    "    index = i * chunk_size\n",
    "    table.insert(\n",
    "        embedded_song_df.iloc[index : index + chunk_size].reset_index(drop=True)\n",
    "    )\n"
   ]
  },
  {
   "cell_type": "markdown",
   "metadata": {},
   "source": [
    "## Verify Data Has Been Inserted"
   ]
  },
  {
   "cell_type": "markdown",
   "metadata": {},
   "source": [
    "* Running table.query() should show us that data has been added."
   ]
  },
  {
   "cell_type": "code",
   "execution_count": 94,
   "metadata": {},
   "outputs": [
    {
     "name": "stdout",
     "output_type": "stream",
     "text": [
      "(157685, 4)\n"
     ]
    },
    {
     "data": {
      "text/html": [
       "<div>\n",
       "<style scoped>\n",
       "    .dataframe tbody tr th:only-of-type {\n",
       "        vertical-align: middle;\n",
       "    }\n",
       "\n",
       "    .dataframe tbody tr th {\n",
       "        vertical-align: top;\n",
       "    }\n",
       "\n",
       "    .dataframe thead th {\n",
       "        text-align: right;\n",
       "    }\n",
       "</style>\n",
       "<table border=\"1\" class=\"dataframe\">\n",
       "  <thead>\n",
       "    <tr style=\"text-align: right;\">\n",
       "      <th></th>\n",
       "      <th>song_name</th>\n",
       "      <th>song_artists</th>\n",
       "      <th>song_year</th>\n",
       "      <th>song_embeddings</th>\n",
       "    </tr>\n",
       "  </thead>\n",
       "  <tbody>\n",
       "    <tr>\n",
       "      <th>0</th>\n",
       "      <td>Piano Concerto No. 3 in D Minor, Op. 30: III. Finale. Alla breve</td>\n",
       "      <td>Sergei Rachmaninoff, James Levine, Berliner Philharmoniker</td>\n",
       "      <td>1921</td>\n",
       "      <td>[-1.2723106145858765, 1.131224513053894, 1.4379098415374756, -0.7852970361709595, 0.31583237648010254, 0.07468923181295395, -1.3993855714797974, -0.12268965691328049, -0.6210166215896606, 1.1861943006515503, 0.8000994920730591, 0.4178811013698578, 0.37173470854759216, -0.8247967958450317, -0.9515019059181213, 1.2703070294949106, -1.461259048884883, 4.752569009266444, -1.007676175100162, -0.3092011481361043, 2.262496351074803, 1.3649563314116429, 2.6110012104955738, -1.5078176079821606, 0.6453499264358126, -1.2499471942272533, -0.38364744367670833, -1.1655450558051375, -1.7786347004763523, -2.142666230649]</td>\n",
       "    </tr>\n",
       "    <tr>\n",
       "      <th>1</th>\n",
       "      <td>Clancy Lowered the Boom</td>\n",
       "      <td>Dennis Day</td>\n",
       "      <td>1921</td>\n",
       "      <td>[-0.40999463200569153, 0.6959466338157654, 1.3106187582015991, -0.18623998761177063, 0.5852393507957458, 0.793241024017334, -0.7502458691596985, 0.13912875950336456, -0.18899276852607727, -0.19216479361057281, 0.7288581728935242, 0.45597043633461, 0.506697952747345, -0.6630322337150574, 0.12824217975139618, 0.6055353575765545, 1.600008527700499, -0.3958314054754836, -0.5219481676317469, -0.3092011481361043, -0.5349944602375606, 0.5117210944216953, -0.26640400859153673, -0.1646257835500665, 0.6453499264358126, -1.2044048830284118, 1.872793548131166, -1.8164526201212032, 1.6541851866630062, -2.142666230649]</td>\n",
       "    </tr>\n",
       "    <tr>\n",
       "      <th>2</th>\n",
       "      <td>Gati Bali</td>\n",
       "      <td>KHP Kridhamardawa Karaton Ngayogyakarta Hadiningrat</td>\n",
       "      <td>1921</td>\n",
       "      <td>[-0.5067959427833557, 0.5816471576690674, 0.09128624945878983, 0.3559354841709137, 0.9136020541191101, 0.3209366202354431, 0.13632585108280182, -0.13376779854297638, -0.21252591907978058, 0.24724194407463074, 0.7367221117019653, 0.3116314709186554, 0.28201544284820557, 0.49553152918815613, -1.067232608795166, 1.2144662090537686, -1.183477361379913, 2.1306274127125904, -1.1758127930699978, -0.3092011481361043, 2.374013638541697, -0.6259258882315683, -0.6025761034947833, -0.5873232499193564, 0.6453499264358126, -1.2044048830284118, -0.3997478418740689, -0.21005905433508043, -1.854615663007104, -2.142666230649]</td>\n",
       "    </tr>\n",
       "    <tr>\n",
       "      <th>3</th>\n",
       "      <td>Danny Boy</td>\n",
       "      <td>Frank Parker</td>\n",
       "      <td>1921</td>\n",
       "      <td>[-0.6843708753585815, 0.8865038156509399, 1.6762135028839111, -0.4014073312282562, 0.3611453175544739, 0.8218395113945007, -0.8597976565361023, 0.18321572244167328, -0.1815173625946045, 0.050726450979709625, 1.0371406078338623, 0.24682621657848358, 0.7631543874740601, -0.8319379091262817, 0.26675304770469666, 1.2304207291798093, -1.4839351050077376, -0.16284109162119192, -0.6415119848547415, -0.3092011481361043, -0.5349062022700511, -0.05710239690493648, 0.9928168892663868, 0.3837053008849818, 0.6453499264358126, -1.295489505426095, -0.39080317620886856, -0.5426988976237884, -1.3774552183139837, -2.142666230649]</td>\n",
       "    </tr>\n",
       "    <tr>\n",
       "      <th>4</th>\n",
       "      <td>When Irish Eyes Are Smiling</td>\n",
       "      <td>Phil Regan</td>\n",
       "      <td>1921</td>\n",
       "      <td>[-0.38810786604881287, 0.8657161593437195, 0.9275007843971252, -0.19844864308834076, 0.9640052318572998, 0.5460641384124756, -0.9974623322486877, 0.51706862449646, -0.12801410257816315, -0.2778356969356537, 1.3121838569641113, 0.14594393968582153, 0.559045672416687, -0.8403735756874084, 0.12305394560098648, 1.203829862303075, -0.6732660986156829, -0.5052618172494476, -1.0749308222880962, -0.3092011481361043, -0.5349891074077622, -0.6259258882315683, 0.12674640748175162, 0.24684186220999385, 0.6453499264358126, -1.3410318166249366, -0.3752990890558546, -0.4921038246856425, -1.0431389831786766, -2.142666230649]</td>\n",
       "    </tr>\n",
       "  </tbody>\n",
       "</table>\n",
       "</div>"
      ],
      "text/plain": [
       "                                                          song_name  \\\n",
       "0  Piano Concerto No. 3 in D Minor, Op. 30: III. Finale. Alla breve   \n",
       "1                                           Clancy Lowered the Boom   \n",
       "2                                                         Gati Bali   \n",
       "3                                                         Danny Boy   \n",
       "4                                       When Irish Eyes Are Smiling   \n",
       "\n",
       "                                                 song_artists  song_year  \\\n",
       "0  Sergei Rachmaninoff, James Levine, Berliner Philharmoniker       1921   \n",
       "1                                                  Dennis Day       1921   \n",
       "2         KHP Kridhamardawa Karaton Ngayogyakarta Hadiningrat       1921   \n",
       "3                                                Frank Parker       1921   \n",
       "4                                                  Phil Regan       1921   \n",
       "\n",
       "                                                                                                                                                                                                                                                                                                                                                                                                                                                                                                                                                                                                                               song_embeddings  \n",
       "0         [-1.2723106145858765, 1.131224513053894, 1.4379098415374756, -0.7852970361709595, 0.31583237648010254, 0.07468923181295395, -1.3993855714797974, -0.12268965691328049, -0.6210166215896606, 1.1861943006515503, 0.8000994920730591, 0.4178811013698578, 0.37173470854759216, -0.8247967958450317, -0.9515019059181213, 1.2703070294949106, -1.461259048884883, 4.752569009266444, -1.007676175100162, -0.3092011481361043, 2.262496351074803, 1.3649563314116429, 2.6110012104955738, -1.5078176079821606, 0.6453499264358126, -1.2499471942272533, -0.38364744367670833, -1.1655450558051375, -1.7786347004763523, -2.142666230649]  \n",
       "1         [-0.40999463200569153, 0.6959466338157654, 1.3106187582015991, -0.18623998761177063, 0.5852393507957458, 0.793241024017334, -0.7502458691596985, 0.13912875950336456, -0.18899276852607727, -0.19216479361057281, 0.7288581728935242, 0.45597043633461, 0.506697952747345, -0.6630322337150574, 0.12824217975139618, 0.6055353575765545, 1.600008527700499, -0.3958314054754836, -0.5219481676317469, -0.3092011481361043, -0.5349944602375606, 0.5117210944216953, -0.26640400859153673, -0.1646257835500665, 0.6453499264358126, -1.2044048830284118, 1.872793548131166, -1.8164526201212032, 1.6541851866630062, -2.142666230649]  \n",
       "2      [-0.5067959427833557, 0.5816471576690674, 0.09128624945878983, 0.3559354841709137, 0.9136020541191101, 0.3209366202354431, 0.13632585108280182, -0.13376779854297638, -0.21252591907978058, 0.24724194407463074, 0.7367221117019653, 0.3116314709186554, 0.28201544284820557, 0.49553152918815613, -1.067232608795166, 1.2144662090537686, -1.183477361379913, 2.1306274127125904, -1.1758127930699978, -0.3092011481361043, 2.374013638541697, -0.6259258882315683, -0.6025761034947833, -0.5873232499193564, 0.6453499264358126, -1.2044048830284118, -0.3997478418740689, -0.21005905433508043, -1.854615663007104, -2.142666230649]  \n",
       "3  [-0.6843708753585815, 0.8865038156509399, 1.6762135028839111, -0.4014073312282562, 0.3611453175544739, 0.8218395113945007, -0.8597976565361023, 0.18321572244167328, -0.1815173625946045, 0.050726450979709625, 1.0371406078338623, 0.24682621657848358, 0.7631543874740601, -0.8319379091262817, 0.26675304770469666, 1.2304207291798093, -1.4839351050077376, -0.16284109162119192, -0.6415119848547415, -0.3092011481361043, -0.5349062022700511, -0.05710239690493648, 0.9928168892663868, 0.3837053008849818, 0.6453499264358126, -1.295489505426095, -0.39080317620886856, -0.5426988976237884, -1.3774552183139837, -2.142666230649]  \n",
       "4     [-0.38810786604881287, 0.8657161593437195, 0.9275007843971252, -0.19844864308834076, 0.9640052318572998, 0.5460641384124756, -0.9974623322486877, 0.51706862449646, -0.12801410257816315, -0.2778356969356537, 1.3121838569641113, 0.14594393968582153, 0.559045672416687, -0.8403735756874084, 0.12305394560098648, 1.203829862303075, -0.6732660986156829, -0.5052618172494476, -1.0749308222880962, -0.3092011481361043, -0.5349891074077622, -0.6259258882315683, 0.12674640748175162, 0.24684186220999385, 0.6453499264358126, -1.3410318166249366, -0.3752990890558546, -0.4921038246856425, -1.0431389831786766, -2.142666230649]  "
      ]
     },
     "execution_count": 94,
     "metadata": {},
     "output_type": "execute_result"
    }
   ],
   "source": [
    "show_df(table.query())\n"
   ]
  },
  {
   "cell_type": "markdown",
   "metadata": {},
   "source": [
    "## Find Songs By A Certain Artist"
   ]
  },
  {
   "cell_type": "code",
   "execution_count": 95,
   "metadata": {},
   "outputs": [
    {
     "data": {
      "text/html": [
       "<div>\n",
       "<style scoped>\n",
       "    .dataframe tbody tr th:only-of-type {\n",
       "        vertical-align: middle;\n",
       "    }\n",
       "\n",
       "    .dataframe tbody tr th {\n",
       "        vertical-align: top;\n",
       "    }\n",
       "\n",
       "    .dataframe thead th {\n",
       "        text-align: right;\n",
       "    }\n",
       "</style>\n",
       "<table border=\"1\" class=\"dataframe\">\n",
       "  <thead>\n",
       "    <tr style=\"text-align: right;\">\n",
       "      <th></th>\n",
       "      <th>song_name</th>\n",
       "      <th>song_artists</th>\n",
       "      <th>song_year</th>\n",
       "      <th>song_embeddings</th>\n",
       "    </tr>\n",
       "  </thead>\n",
       "  <tbody>\n",
       "    <tr>\n",
       "      <th>0</th>\n",
       "      <td>Flashback</td>\n",
       "      <td>Calvin Harris</td>\n",
       "      <td>2009</td>\n",
       "      <td>[-0.6285380125045776, 0.8466413021087646, 1.0233451128005981, -0.28528594970703125, 0.7038078308105469, 0.5484970808029175, -0.8259185552597046, -0.11083891987800598, 0.2792535722255707, 0.11158110946416855, 0.672805905342102, 0.5593938827514648, 0.8224308490753174, -0.2334447205066681, 0.4897407591342926, -1.3351724705550174, -1.5406252453148743, -0.011030115749796763, 1.7460279903169285, -0.3092011481361043, -0.5313940449564866, 1.0805445857483271, -0.7039975151774578, 1.0250333372402145, -1.549546934208044, 0.7539144985217788, -0.307319630000332, 0.36420802995835755, -1.2520866301382436, 1.247808968405853]</td>\n",
       "    </tr>\n",
       "    <tr>\n",
       "      <th>1</th>\n",
       "      <td>You Used To Hold Me</td>\n",
       "      <td>Calvin Harris</td>\n",
       "      <td>2009</td>\n",
       "      <td>[-0.18722771108150482, 1.2554978132247925, 1.2012852430343628, -0.4599727988243103, 0.8321321606636047, 0.5613057017326355, -1.1689554452896118, 0.6158842444419861, 0.013475783169269562, 0.005883281119167805, 1.540282130241394, 0.15665671229362488, 0.7777714729309082, -0.24798770248889923, 0.2923077344894409, -1.279491195315136, 0.46053670752705134, 0.004253770518922344, 1.8244917453695186, -0.3092011481361043, -0.5349904137531296, 1.6493680770749588, 0.6224578016611152, 0.958707209266951, -1.549546934208044, 0.5717452537264123, -0.35562082459241384, 0.3955535635781341, -1.2824790151505443, 1.247808968405853]</td>\n",
       "    </tr>\n",
       "    <tr>\n",
       "      <th>2</th>\n",
       "      <td>I'm Not Alone - Radio Edit</td>\n",
       "      <td>Calvin Harris</td>\n",
       "      <td>2009</td>\n",
       "      <td>[-0.38968682289123535, 1.0622804164886475, 1.1023608446121216, -0.4288729727268219, 0.7453950643539429, 0.5736275911331177, -1.0266664028167725, 0.6310440301895142, 0.08780206739902496, 0.21935860812664032, 1.2747215032577515, 0.41602006554603577, 0.6876100301742554, -0.5072594881057739, 0.3114408552646637, -1.3273547556932577, 0.3074733286977821, -0.1491385696844665, 0.7932538218211915, -0.3092011481361043, -0.14309084999676247, 0.5117210944216953, 0.4914076629700189, 0.8665875870818629, 0.6453499264358126, 0.3895760089310457, -0.411077751716656, 0.46191895166730823, -0.36310936852844955, 1.247808968405853]</td>\n",
       "    </tr>\n",
       "    <tr>\n",
       "      <th>3</th>\n",
       "      <td>We Found Love</td>\n",
       "      <td>Rihanna, Calvin Harris</td>\n",
       "      <td>2011</td>\n",
       "      <td>[-0.395832359790802, 1.1544952392578125, 1.2431914806365967, -0.4664417505264282, 0.6249920725822449, 0.5510679483413696, -1.0721592903137207, 0.26483750343322754, 0.2891601622104645, 0.11555533111095428, 1.21981942653656, 0.41196370124816895, 0.8828952312469482, -0.5569308400154114, 0.22388547658920288, -1.2744389306085564, 1.1181423350898372, -0.12151213480453658, 1.0660087798611477, -0.3092011481361043, -0.5305974929031516, -1.1947493795582, -0.5626912786757541, 1.2313812909348116, 0.6453499264358126, 1.9835569008905032, -0.37351015592281456, 0.36375280436636925, 0.2751307167298641, 1.3248652229298272]</td>\n",
       "    </tr>\n",
       "    <tr>\n",
       "      <th>4</th>\n",
       "      <td>Dance Wiv Me - Radio Edit</td>\n",
       "      <td>Dizzee Rascal, Calvin Harris, Chrome</td>\n",
       "      <td>2011</td>\n",
       "      <td>[-0.4619847238063812, 0.8914391398429871, 1.063472867012024, -0.36505261063575745, 0.5351406931877136, 0.492635577917099, -0.6670371294021606, 0.22351916134357452, -0.13763128221035004, 0.0860186442732811, 0.6805768609046936, 0.4071314334869385, 0.47291994094848633, -0.17650116980075836, 0.2073664516210556, -1.2143435714671371, 1.9344803555126058, -0.20954668716662583, 0.9912813940967762, -0.3092011481361043, -0.5349944602375606, 1.6493680770749588, -0.30059100129356187, 1.2671763441267319, 0.6453499264358126, 1.5281337889020867, -0.3329610049072396, -0.1561798539118754, 1.00454795702508, 1.3248652229298272]</td>\n",
       "    </tr>\n",
       "    <tr>\n",
       "      <th>5</th>\n",
       "      <td>Feel So Close - Radio Edit</td>\n",
       "      <td>Calvin Harris</td>\n",
       "      <td>2012</td>\n",
       "      <td>[-0.5047733187675476, 1.0658838748931885, 1.1152290105819702, -0.47992005944252014, 0.687364935874939, 0.7315778732299805, -1.008978009223938, 0.4123622179031372, -0.07694371789693832, 0.12144271284341812, 1.1705317497253418, 0.36791425943374634, 0.8056957721710205, -0.35605528950691223, 0.46867498755455017, -1.3383314655399736, 0.9650789562605678, -0.19120286091549893, 1.6563551273996828, -0.3092011481361043, -0.5125954164977816, 0.5117210944216953, -0.015699395443352974, 1.5196718418873827, 0.6453499264358126, 2.2112684568847114, -0.4170408621601229, 0.36215951479440944, 1.4870270690953529, 1.363393350191814]</td>\n",
       "    </tr>\n",
       "    <tr>\n",
       "      <th>6</th>\n",
       "      <td>Sweet Nothing (feat. Florence Welch)</td>\n",
       "      <td>Calvin Harris, Florence Welch</td>\n",
       "      <td>2012</td>\n",
       "      <td>[-0.5463921427726746, 1.0532793998718262, 1.2234747409820557, -0.510463297367096, 0.35872483253479004, 0.49691084027290344, -0.9932032823562622, 0.11034901440143585, 0.1575445830821991, 0.09580708295106888, 1.049813151359558, 0.7195221781730652, 0.6010255217552185, -0.4451219141483307, 0.14200323820114136, -0.8170760203287275, 0.20543107614493594, -0.14259962817167257, 1.6750369738407758, -0.3092011481361043, -0.5346376049176665, 0.7961328400850112, -0.8549900662780685, 1.3266593001662457, -1.549546934208044, 1.8469299672939783, 0.048081752430295104, 0.36206196645326905, 0.20674785045218758, 1.363393350191814]</td>\n",
       "    </tr>\n",
       "    <tr>\n",
       "      <th>7</th>\n",
       "      <td>I Need Your Love (feat. Ellie Goulding)</td>\n",
       "      <td>Calvin Harris, Ellie Goulding</td>\n",
       "      <td>2012</td>\n",
       "      <td>[-0.43598711490631104, 1.1474380493164062, 1.2179644107818604, -0.5584360361099243, 0.39483460783958435, 0.5178744196891785, -0.9965513944625854, 0.26748108863830566, 0.15887410938739777, 0.3885841965675354, 1.2049258947372437, 0.5520941615104675, 0.6386106610298157, -0.3595333397388458, 0.28296908736228943, -0.2506905558542882, 0.8970507878920038, 0.030931386799656055, 1.4508548165476611, -0.3092011481361043, -0.5349944602375606, 0.7961328400850112, 0.17232906441778495, 1.1294355757166477, 0.6453499264358126, 1.8013876560951365, -0.31387905148814554, 0.2663020115671261, 0.1991497541991124, 1.363393350191814]</td>\n",
       "    </tr>\n",
       "    <tr>\n",
       "      <th>8</th>\n",
       "      <td>Let's Go (feat. Ne-Yo)</td>\n",
       "      <td>Calvin Harris, Ne-Yo</td>\n",
       "      <td>2012</td>\n",
       "      <td>[-0.5004657506942749, 1.1075575351715088, 1.317096471786499, -0.6495700478553772, 0.14445802569389343, 0.6780844926834106, -0.9535553455352783, 0.2808545231819153, -0.052567798644304276, 0.27093276381492615, 1.186755895614624, 0.6688621044158936, 0.8233105540275574, -0.3870493471622467, 0.23052085936069489, -1.3202549942371695, 0.9820859983527089, 0.01743444222608983, 1.4994276172945025, -0.3092011481361043, -0.5104287949127105, -0.34151414256825235, 0.4971054950870231, 1.5038799066556534, -1.549546934208044, 1.5736761001009283, -0.24709221452131636, 0.36472828777777266, 1.3198689515276991, 1.363393350191814]</td>\n",
       "    </tr>\n",
       "    <tr>\n",
       "      <th>9</th>\n",
       "      <td>Thinking About You (feat. Ayah Marar)</td>\n",
       "      <td>Calvin Harris, Ayah Marar</td>\n",
       "      <td>2012</td>\n",
       "      <td>[-0.46033337712287903, 0.9587727189064026, 0.9918168187141418, -0.39612647891044617, 0.3049544394016266, 0.45470932126045227, -0.7973266243934631, 0.2169901579618454, 0.061282020062208176, 0.2967797517776489, 0.9496392011642456, 0.4828426241874695, 0.6747055649757385, -0.3045465052127838, 0.18901750445365906, -1.3339492906786878, 1.067121208813414, 0.1370883744063931, 1.4695366629887539, -0.3092011481361043, -0.5336817424536646, -1.479161125221516, -0.6322048305032051, 1.3664900701396077, -1.549546934208044, 1.61921841129977, -0.36575811234630756, 0.3637202882526556, 0.8373898394574263, 1.363393350191814]</td>\n",
       "    </tr>\n",
       "    <tr>\n",
       "      <th>10</th>\n",
       "      <td>Spectrum (Say My Name) - Calvin Harris Remix</td>\n",
       "      <td>Florence + The Machine, Calvin Harris</td>\n",
       "      <td>2012</td>\n",
       "      <td>[-0.5783173441886902, 1.0160670280456543, 1.3765041828155518, -0.4177810251712799, 0.556481659412384, 0.6267759799957275, -1.0034246444702148, 0.11103783547878265, 0.2268877625465393, -0.11408378183841705, 1.1011881828308105, 0.6485767960548401, 0.5675836205482483, -0.4366135597229004, 0.29236501455307007, -1.334933152753127, 0.23377614629850432, -0.09808422222604993, 1.7385552517404912, -0.3092011481361043, -0.5218672823986005, 1.6493680770749588, -0.6276465648096017, 1.3428021672920136, -1.549546934208044, 0.9360837433171454, -0.31447536253249225, 0.30216728499307355, 0.2295421392114131, 1.363393350191814]</td>\n",
       "    </tr>\n",
       "    <tr>\n",
       "      <th>11</th>\n",
       "      <td>Bounce (feat. Kelis) - Radio Edit</td>\n",
       "      <td>Calvin Harris, Kelis</td>\n",
       "      <td>2012</td>\n",
       "      <td>[-0.6072683930397034, 1.0415412187576294, 1.2525688409805298, -0.554114818572998, 0.23439966142177582, 0.5523579716682434, -0.850540041923523, 0.17462150752544403, -0.07456663995981216, 0.37598150968551636, 0.7990418076515198, 0.7304195165634155, 0.670412003993988, -0.2591187655925751, 0.34616875648498535, -1.2521026024320998, 1.3732479664719526, -0.06648065605115584, 1.802073529640207, -0.3092011481361043, 1.0358061889389716, -0.9103376338948841, 2.6053033783785695, 1.6454809259001602, -1.549546934208044, 1.4370491665044034, -0.36396917921326755, 0.3622895792492634, 0.8791793688493397, 1.363393350191814]</td>\n",
       "    </tr>\n",
       "    <tr>\n",
       "      <th>12</th>\n",
       "      <td>We'll Be Coming Back (feat. Example)</td>\n",
       "      <td>Calvin Harris, Example</td>\n",
       "      <td>2012</td>\n",
       "      <td>[-0.34303349256515503, 1.0629302263259888, 1.2345219850540161, -0.4126872718334198, 0.31495288014411926, 0.6585813760757446, -1.0607115030288696, 0.3868827819824219, 0.06580272316932678, 0.1924581229686737, 1.1989325284957886, 0.525166392326355, 0.7104155421257019, -0.4170932173728943, 0.10367453843355179, -1.3374326942395398, 0.3358183988513505, 0.029769084015640684, 1.7609734674698028, -0.3092011481361043, -0.5349944602375606, 0.5117210944216953, 2.2292464586562937, 1.252612670524137, 0.6453499264358126, 1.5281337889020867, -0.08131774419293655, 0.36241964370411694, 0.16495832106027414, 1.363393350191814]</td>\n",
       "    </tr>\n",
       "    <tr>\n",
       "      <th>13</th>\n",
       "      <td>Drinking from the Bottle (feat. Tinie Tempah)</td>\n",
       "      <td>Calvin Harris, Tinie Tempah</td>\n",
       "      <td>2012</td>\n",
       "      <td>[-0.5175632834434509, 0.9395996928215027, 1.1140785217285156, -0.3954555094242096, 0.2678661048412323, 0.5146007537841797, -0.7304662466049194, 0.100226029753685, -0.05838935449719429, 0.20136600732803345, 0.8501102924346924, 0.668461263179779, 0.509284496307373, -0.46431758999824524, 0.1585930734872818, -1.2162049321485084, 0.7269803669705941, 0.07710722529387208, 1.5143730944473768, -0.3092011481361043, -0.5347956408450482, 1.0805445857483271, -0.878920961169486, 1.2857757345107685, -1.549546934208044, 1.4370491665044034, -0.2953934091133982, 0.3662240290085925, 0.009197347872233573, 1.363393350191814]</td>\n",
       "    </tr>\n",
       "    <tr>\n",
       "      <th>14</th>\n",
       "      <td>Summer</td>\n",
       "      <td>Calvin Harris</td>\n",
       "      <td>2014</td>\n",
       "      <td>[-0.7613062858581543, 1.0960277318954468, 1.3504230976104736, -0.4698917865753174, 0.6255606412887573, 0.7610546350479126, -1.0971524715423584, -0.06843571364879608, 0.14927394688129425, -0.005667893681675196, 0.8910790681838989, 0.5806847810745239, 0.817599892616272, -0.4649577736854553, 0.5941649675369263, -1.284809368690483, 0.3358183988513505, -0.06374489575680674, 1.4022820158008196, -0.3092011481361043, -0.4782799540401117, -0.34151414256825235, -0.37466281881461627, 1.394389155715663, -1.549546934208044, 2.2112684568847114, -0.3955736645636421, 0.362549708158971, 0.8183945988247383, 1.440449604715788]</td>\n",
       "    </tr>\n",
       "    <tr>\n",
       "      <th>15</th>\n",
       "      <td>Outside (feat. Ellie Goulding)</td>\n",
       "      <td>Calvin Harris, Ellie Goulding</td>\n",
       "      <td>2014</td>\n",
       "      <td>[-0.5524161458015442, 1.0612788200378418, 1.2223753929138184, -0.597324788570404, 0.28831225633621216, 0.5572599172592163, -0.8451144695281982, -0.007535845041275024, 0.14598800241947174, 0.3751460909843445, 0.9972116947174072, 0.7288843393325806, 0.7081607580184937, -0.27095767855644226, 0.3393542468547821, -0.7745306333259528, 0.6192691003870343, -0.02631400201851587, 1.2789818292896065, -0.3092011481361043, -0.5349944602375606, -0.9103376338948841, 0.6566447943631403, 1.2948999637557677, -1.549546934208044, 2.2112684568847114, -0.366950734435001, 0.36534609393832856, -0.41629604229997574, 1.440449604715788]</td>\n",
       "    </tr>\n",
       "    <tr>\n",
       "      <th>16</th>\n",
       "      <td>Blame (feat. John Newman)</td>\n",
       "      <td>Calvin Harris, John Newman</td>\n",
       "      <td>2014</td>\n",
       "      <td>[-0.6459462642669678, 1.1695157289505005, 1.4460792541503906, -0.46578994393348694, 0.4820844233036041, 0.5743623375892639, -1.1283818483352661, -0.04779732972383499, -0.008493826724588871, 0.25562575459480286, 0.7806689143180847, 0.6810996532440186, 0.8276764750480652, -0.5922031998634338, 0.36630046367645264, -1.2646003098641647, -0.6959421547385375, -0.13943689950768517, 1.406018385089038, -0.3092011481361043, -0.51670562509299, -1.479161125221516, 0.7762992688202281, 1.3027959313716324, -1.549546934208044, 2.0290992120893447, -0.12007796207547143, 0.36498841668748067, -0.6822294111576065, 1.440449604715788]</td>\n",
       "    </tr>\n",
       "    <tr>\n",
       "      <th>17</th>\n",
       "      <td>Under Control (feat. Hurts)</td>\n",
       "      <td>Calvin Harris, Alesso, Hurts</td>\n",
       "      <td>2014</td>\n",
       "      <td>[-0.5939456224441528, 1.0801390409469604, 1.25258469581604, -0.47050008177757263, 0.2951200008392334, 0.5139272212982178, -0.8274775743484497, 0.15722905099391937, 0.12750862538814545, 0.2407466471195221, 1.0186655521392822, 0.6600777506828308, 0.6969241499900818, -0.3297068476676941, 0.2974865734577179, -0.9978939150905204, 0.04102966925423999, -0.36620454471558167, 1.6227278038057156, -0.3092011481361043, -0.532082265930568, 0.7961328400850112, -0.5228064538567248, 1.4208845137155646, 0.6453499264358126, 1.8924722784928198, -0.10039969761203067, 0.30223231722050037, -0.06678361465851812, 1.440449604715788]</td>\n",
       "    </tr>\n",
       "    <tr>\n",
       "      <th>18</th>\n",
       "      <td>Pray to God (feat. HAIM)</td>\n",
       "      <td>Calvin Harris, HAIM</td>\n",
       "      <td>2014</td>\n",
       "      <td>[-0.5060393214225769, 1.075028896331787, 1.1441725492477417, -0.4525839686393738, 0.24197150766849518, 0.48752689361572266, -0.9191593527793884, 0.16875968873500824, 0.10896065831184387, 0.2005489617586136, 0.9636539220809937, 0.6817213296890259, 0.6326252818107605, -0.3608156740665436, 0.17002882063388824, -1.3010297974852907, 0.39250853915848727, 0.01290383341492788, 1.7497643596051469, -0.3092011481361043, -0.5349065208908724, 0.5117210944216953, -0.5569934465587499, 1.5359901749601697, -1.549546934208044, 1.4370491665044034, -0.3550245135480672, 0.10508711977578558, -0.3479131760222992, 1.440449604715788]</td>\n",
       "    </tr>\n",
       "    <tr>\n",
       "      <th>19</th>\n",
       "      <td>Open Wide (feat. Big Sean)</td>\n",
       "      <td>Calvin Harris, Big Sean</td>\n",
       "      <td>2014</td>\n",
       "      <td>[-0.5884681344032288, 1.1525570154190063, 1.490252137184143, -0.6084569096565247, 0.3083697259426117, 0.6000824570655823, -0.892249584197998, -0.047010570764541626, 0.19504092633724213, 0.37990495562553406, 1.1722034215927124, 0.8088203072547913, 0.6593764424324036, -0.535600483417511, 0.46478405594825745, -1.1553118470007873, 1.2655366998883928, -0.3403729583524646, 1.7273461438758355, 3.2341406428407566, -0.5349944602375606, -1.1947493795582, 1.8133047141149887, 1.5440616085230539, 0.6453499264358126, 1.254879921709037, -0.38543637680974835, 0.36342764322923443, 0.6018488556120964, 1.440449604715788]</td>\n",
       "    </tr>\n",
       "    <tr>\n",
       "      <th>20</th>\n",
       "      <td>How Deep Is Your Love</td>\n",
       "      <td>Calvin Harris, Disciples</td>\n",
       "      <td>2015</td>\n",
       "      <td>[-0.4848483204841614, 1.1123898029327393, 1.2252197265625, -0.3457117974758148, 0.6014406085014343, 0.5255178809165955, -0.9995371103286743, 0.15803970396518707, 0.14364130795001984, -0.14717474579811096, 1.272888422012329, 0.28564944863319397, 0.6386968493461609, -0.6341426372528076, 0.21738643944263458, -1.2374776256498958, 1.140818391212692, -0.1419670824388751, 1.4471184472594425, -0.3092011481361043, -0.5295460441927495, 1.6493680770749588, 1.032701714085416, 1.251033477000964, -1.549546934208044, 2.0746415232881863, -0.16599391249016654, 0.16920889601873085, -0.7278179886760573, 1.478977731977775]</td>\n",
       "    </tr>\n",
       "    <tr>\n",
       "      <th>21</th>\n",
       "      <td>This Is What You Came For (feat. Rihanna)</td>\n",
       "      <td>Calvin Harris, Rihanna</td>\n",
       "      <td>2016</td>\n",
       "      <td>[-0.4568229615688324, 1.3074296712875366, 1.2667139768600464, -0.5594730377197266, 0.2744532823562622, 0.5621815919876099, -1.1001359224319458, 0.3401419520378113, 0.022161025553941727, 0.1467675417661667, 1.356055736541748, 0.399091899394989, 0.7719624042510986, -0.6291545033454895, 0.17865049839019775, -0.8117578469533806, 0.5285648758956155, -0.06669414023597499, 1.6713006045525571, -0.3092011481361043, -0.13990464178342266, 1.0805445857483271, -0.33477799399558694, 1.5293224689734395, -1.549546934208044, 2.16572614568587, -0.4045183302288425, 0.23294047889711456, -0.23774078035270924, 1.517505859239762]</td>\n",
       "    </tr>\n",
       "    <tr>\n",
       "      <th>22</th>\n",
       "      <td>The Weekend - Funk Wav Remix</td>\n",
       "      <td>SZA, Calvin Harris, Funk Wav</td>\n",
       "      <td>2017</td>\n",
       "      <td>[-0.7080979347229004, 0.8106701970100403, 1.1352225542068481, -0.39254674315452576, 0.4533507227897644, 0.5342645645141602, -0.6350218057632446, 0.03860374540090561, 0.10561897605657578, 0.021081143990159035, 0.7881348729133606, 0.5846544504165649, 0.6968555450439453, -0.3734216094017029, 0.243678480386734, -0.024668187402047063, 1.3505719103490978, -0.46483423810202873, 0.3448895072349624, -0.3092011481361043, -0.5349944602375606, 1.6493680770749588, -0.46013030056967885, 1.1527725466702032, 0.6453499264358126, 2.0290992120893447, -0.2530553249647832, -0.48364963512014286, 0.5296669412078823, 1.556033986501749]</td>\n",
       "    </tr>\n",
       "    <tr>\n",
       "      <th>23</th>\n",
       "      <td>Slide (feat. Frank Ocean &amp; Migos)</td>\n",
       "      <td>Calvin Harris, Frank Ocean, Migos</td>\n",
       "      <td>2017</td>\n",
       "      <td>[-0.8240345120429993, 1.1283981800079346, 1.4215871095657349, -0.6955533027648926, 0.21241874992847443, 0.60829097032547, -1.0195199251174927, -0.14519165456295013, 0.07144079357385635, 0.018586501479148865, 0.9250726103782654, 0.571941077709198, 0.8197196125984192, -0.31729552149772644, 0.2432078719139099, -0.016690927339026784, 1.1294803631512644, 0.0017235875877324247, 1.1743634892194865, 3.2341406428407566, -0.5349906049256224, -1.1947493795582, 0.2691922104068561, 1.4394839040996015, -1.549546934208044, 1.8924722784928198, -0.2769077667386508, -0.41403263565962234, -0.06298456653198053, 1.556033986501749]</td>\n",
       "    </tr>\n",
       "    <tr>\n",
       "      <th>24</th>\n",
       "      <td>Feels (feat. Pharrell Williams, Katy Perry &amp; Big Sean)</td>\n",
       "      <td>Calvin Harris, Pharrell Williams, Katy Perry, Big Sean, Funk Wav</td>\n",
       "      <td>2017</td>\n",
       "      <td>[-0.49866625666618347, 1.140196681022644, 1.5119439363479614, -0.6415231823921204, 0.32457467913627625, 0.6457487344741821, -0.7478659749031067, -0.14077404141426086, 0.017145521938800812, 0.3867860436439514, 0.9636114835739136, 0.6271526217460632, 0.8481064438819885, -0.4305969178676605, 0.40544721484184265, -1.1702027324517583, 2.019515565973311, -0.05678689269603446, 0.9875450248085577, 3.2341406428407566, -0.5349944602375606, 1.6493680770749588, -0.6407515786787114, 1.473524297821329, -1.549546934208044, 1.9835569008905032, -0.26140367958563687, -0.513141750258252, 1.3084718071480863, 1.556033986501749]</td>\n",
       "    </tr>\n",
       "    <tr>\n",
       "      <th>25</th>\n",
       "      <td>Rollin (feat. Future &amp; Khalid)</td>\n",
       "      <td>Calvin Harris, Future, Khalid</td>\n",
       "      <td>2017</td>\n",
       "      <td>[-0.5570228695869446, 1.1381168365478516, 1.3681343793869019, -0.7015326023101807, 0.1919490545988083, 0.6239373683929443, -0.8207851648330688, -0.14727726578712463, 0.16449972987174988, 0.37705621123313904, 1.0084015130996704, 0.8870821595191956, 0.7306995987892151, -0.3128957450389862, 0.3203561007976532, -0.1443270883473511, 1.2315226157041106, 0.3326557013440539, 1.0510633027082734, 3.2341406428407566, -0.5347819401497308, 0.2273093487583794, 0.09825724689673071, 1.2312058249877926, -1.549546934208044, 1.5736761001009283, -0.09562920925725711, -0.8063070314988182, 0.5524612299671078, 1.556033986501749]</td>\n",
       "    </tr>\n",
       "    <tr>\n",
       "      <th>26</th>\n",
       "      <td>Slide (feat. Frank Ocean &amp; Migos)</td>\n",
       "      <td>Calvin Harris, Frank Ocean, Migos, Funk Wav</td>\n",
       "      <td>2017</td>\n",
       "      <td>[-0.8225916624069214, 1.0584816932678223, 1.3613543510437012, -0.6634804010391235, 0.22716352343559265, 0.5867148041725159, -0.9289129376411438, -0.11545233428478241, 0.07145316898822784, 0.01220144797116518, 0.8655043840408325, 0.5559359788894653, 0.7999839186668396, -0.32585468888282776, 0.1978074461221695, -0.016690927339026784, 1.1294803631512644, 0.0017235875877324247, 1.1743634892194865, 3.2341406428407566, -0.5349906049256224, -1.1947493795582, 0.2691922104068561, 1.4394839040996015, -1.549546934208044, 1.61921841129977, -0.2769077667386508, -0.41403263565962234, -0.06298456653198053, 1.556033986501749]</td>\n",
       "    </tr>\n",
       "    <tr>\n",
       "      <th>27</th>\n",
       "      <td>Faking It (feat. Kehlani &amp; Lil Yachty)</td>\n",
       "      <td>Calvin Harris, Kehlani, Lil Yachty, Funk Wav</td>\n",
       "      <td>2017</td>\n",
       "      <td>[-0.49838510155677795, 1.0715062618255615, 1.2740086317062378, -0.7071957588195801, 0.1951567381620407, 0.6125378012657166, -0.6959101557731628, -0.13186714053153992, 0.19241298735141754, 0.44077369570732117, 1.1333856582641602, 0.7643054127693176, 0.7588388919830322, -0.30926913022994995, 0.21471011638641357, -0.4926674444325697, 1.3562409243798115, 0.07509889259224008, 0.40467141584645966, 3.2341406428407566, -0.5349944602375606, 1.0805445857483271, -0.7706621509464066, 1.2212042660076972, -1.549546934208044, 1.3915068553055618, 0.08386041509109653, 0.10518466811692596, 0.5334659893344199, 1.556033986501749]</td>\n",
       "    </tr>\n",
       "    <tr>\n",
       "      <th>28</th>\n",
       "      <td>Rollin (feat. Future &amp; Khalid)</td>\n",
       "      <td>Calvin Harris, Future, Khalid, Funk Wav</td>\n",
       "      <td>2017</td>\n",
       "      <td>[-0.5999216437339783, 1.0588120222091675, 1.3101179599761963, -0.6648995280265808, 0.21174375712871552, 0.5973560810089111, -0.7532332539558411, -0.11388598382472992, 0.14900366961956024, 0.3102167844772339, 0.9283263683319092, 0.8167752027511597, 0.7236077785491943, -0.3231392204761505, 0.2570531368255615, -0.15496343509804483, 1.225853601673397, 0.33254500584081437, 1.0435905641318364, 3.2341406428407566, -0.534894731920483, 0.2273093487583794, -0.14105170201744485, 1.2255909146831776, -1.549546934208044, 1.3915068553055618, -0.0896660988137902, -0.8079003210707776, 0.4916764599425064, 1.556033986501749]</td>\n",
       "    </tr>\n",
       "    <tr>\n",
       "      <th>29</th>\n",
       "      <td>One Kiss (with Dua Lipa)</td>\n",
       "      <td>Calvin Harris, Dua Lipa</td>\n",
       "      <td>2018</td>\n",
       "      <td>[-0.4297018051147461, 1.1363933086395264, 1.2851148843765259, -0.34560152888298035, 0.3404502272605896, 0.578003466129303, -0.8163579106330872, 0.12489573657512665, 0.252063125371933, 0.26252758502960205, 0.9819726347923279, 0.6180420517921448, 0.6204191446304321, -0.2001650631427765, 0.3188706934452057, -1.2425298903564754, 1.4412761348405165, -0.12451672703532461, 1.424700231530131, -0.3092011481361043, -0.5349246822776885, 1.0805445857483271, -0.7142536129880652, 1.449836394973735, -1.549546934208044, 2.3023530792823945, 0.054044862873762006, 0.23394847842223204, 0.24473833171756343, 1.5945621137637358]</td>\n",
       "    </tr>\n",
       "    <tr>\n",
       "      <th>30</th>\n",
       "      <td>Promises (with Sam Smith)</td>\n",
       "      <td>Calvin Harris, Sam Smith, Jessie Reyez</td>\n",
       "      <td>2018</td>\n",
       "      <td>[-0.22072052955627441, 0.8008583188056946, 1.345070242881775, -0.4456001818180084, 0.6062564253807068, 0.698062002658844, -1.0019447803497314, -0.15576855838298798, -0.08000590652227402, 0.23068784177303314, 0.8917500972747803, 0.5035368800163269, 0.8574088215827942, -0.37270689010620117, 0.14223997294902802, -1.3092729662170783, 1.3845859945333798, -0.13667741874835615, 1.073481518437585, -0.3092011481361043, -0.5349788159552331, 1.6493680770749588, 0.6737382907141528, 0.9671295747238734, 0.6453499264358126, 2.256810768083553, -0.366950734435001, 0.2039035893509937, -0.15796076969542017, 1.5945621137637358]</td>\n",
       "    </tr>\n",
       "    <tr>\n",
       "      <th>31</th>\n",
       "      <td>Giant (with Rag'n'Bone Man)</td>\n",
       "      <td>Calvin Harris', \"Rag'n'Bone Man\"</td>\n",
       "      <td>2019</td>\n",
       "      <td>[-0.4497169554233551, 0.9250536561012268, 1.023553729057312, -0.3846795856952667, 0.26857438683509827, 0.6428205370903015, -0.4705349802970886, 0.17850705981254578, -0.031419090926647186, 0.3095611333847046, 0.912738025188446, 0.6191327571868896, 0.5785417556762695, -0.8157736659049988, 0.10061588138341904, -1.2983707107976172, 1.5319803593319354, -0.011156624896356259, 1.5181094637355954, -0.3092011481361043, -0.5333917975062507, -1.1947493795582, -0.7159629626231665, 1.2619123657161553, -1.549546934208044, 2.16572614568587, -0.38662899889844177, 0.16959908938329238, 0.2979250054890896, 1.6330902410257229]</td>\n",
       "    </tr>\n",
       "    <tr>\n",
       "      <th>32</th>\n",
       "      <td>Over Now (with The Weeknd)</td>\n",
       "      <td>Calvin Harris, The Weeknd</td>\n",
       "      <td>2020</td>\n",
       "      <td>[-0.5160962343215942, 1.0956298112869263, 1.427526593208313, -0.4294871687889099, 0.3518286347389221, 0.671254575252533, -1.050647258758545, 0.1715652346611023, 0.03539188206195831, 0.01853059232234955, 1.0682851076126099, 0.6852697134017944, 0.6273256540298462, -0.6179031133651733, 0.3606739342212677, -1.1390914182059793, 0.4265226233427693, -0.15655516840151695, 1.5069003558709397, 3.2341406428407566, -0.530788665395952, -0.34151414256825235, 0.2293073855878268, 1.29665462322596, -1.549546934208044, 2.256810768083553, -0.33117207177419955, 1.9914119085210957, 0.5752555187263333, 1.67161836828771]</td>\n",
       "    </tr>\n",
       "  </tbody>\n",
       "</table>\n",
       "</div>"
      ],
      "text/plain": [
       "                                                 song_name  \\\n",
       "0                                                Flashback   \n",
       "1                                      You Used To Hold Me   \n",
       "2                               I'm Not Alone - Radio Edit   \n",
       "3                                            We Found Love   \n",
       "4                                Dance Wiv Me - Radio Edit   \n",
       "5                               Feel So Close - Radio Edit   \n",
       "6                     Sweet Nothing (feat. Florence Welch)   \n",
       "7                  I Need Your Love (feat. Ellie Goulding)   \n",
       "8                                   Let's Go (feat. Ne-Yo)   \n",
       "9                    Thinking About You (feat. Ayah Marar)   \n",
       "10            Spectrum (Say My Name) - Calvin Harris Remix   \n",
       "11                       Bounce (feat. Kelis) - Radio Edit   \n",
       "12                    We'll Be Coming Back (feat. Example)   \n",
       "13           Drinking from the Bottle (feat. Tinie Tempah)   \n",
       "14                                                  Summer   \n",
       "15                          Outside (feat. Ellie Goulding)   \n",
       "16                               Blame (feat. John Newman)   \n",
       "17                             Under Control (feat. Hurts)   \n",
       "18                                Pray to God (feat. HAIM)   \n",
       "19                              Open Wide (feat. Big Sean)   \n",
       "20                                   How Deep Is Your Love   \n",
       "21               This Is What You Came For (feat. Rihanna)   \n",
       "22                            The Weekend - Funk Wav Remix   \n",
       "23                       Slide (feat. Frank Ocean & Migos)   \n",
       "24  Feels (feat. Pharrell Williams, Katy Perry & Big Sean)   \n",
       "25                          Rollin (feat. Future & Khalid)   \n",
       "26                       Slide (feat. Frank Ocean & Migos)   \n",
       "27                  Faking It (feat. Kehlani & Lil Yachty)   \n",
       "28                          Rollin (feat. Future & Khalid)   \n",
       "29                                One Kiss (with Dua Lipa)   \n",
       "30                               Promises (with Sam Smith)   \n",
       "31                             Giant (with Rag'n'Bone Man)   \n",
       "32                              Over Now (with The Weeknd)   \n",
       "\n",
       "                                                        song_artists  \\\n",
       "0                                                      Calvin Harris   \n",
       "1                                                      Calvin Harris   \n",
       "2                                                      Calvin Harris   \n",
       "3                                             Rihanna, Calvin Harris   \n",
       "4                               Dizzee Rascal, Calvin Harris, Chrome   \n",
       "5                                                      Calvin Harris   \n",
       "6                                      Calvin Harris, Florence Welch   \n",
       "7                                      Calvin Harris, Ellie Goulding   \n",
       "8                                               Calvin Harris, Ne-Yo   \n",
       "9                                          Calvin Harris, Ayah Marar   \n",
       "10                             Florence + The Machine, Calvin Harris   \n",
       "11                                              Calvin Harris, Kelis   \n",
       "12                                            Calvin Harris, Example   \n",
       "13                                       Calvin Harris, Tinie Tempah   \n",
       "14                                                     Calvin Harris   \n",
       "15                                     Calvin Harris, Ellie Goulding   \n",
       "16                                        Calvin Harris, John Newman   \n",
       "17                                      Calvin Harris, Alesso, Hurts   \n",
       "18                                               Calvin Harris, HAIM   \n",
       "19                                           Calvin Harris, Big Sean   \n",
       "20                                          Calvin Harris, Disciples   \n",
       "21                                            Calvin Harris, Rihanna   \n",
       "22                                      SZA, Calvin Harris, Funk Wav   \n",
       "23                                 Calvin Harris, Frank Ocean, Migos   \n",
       "24  Calvin Harris, Pharrell Williams, Katy Perry, Big Sean, Funk Wav   \n",
       "25                                     Calvin Harris, Future, Khalid   \n",
       "26                       Calvin Harris, Frank Ocean, Migos, Funk Wav   \n",
       "27                      Calvin Harris, Kehlani, Lil Yachty, Funk Wav   \n",
       "28                           Calvin Harris, Future, Khalid, Funk Wav   \n",
       "29                                           Calvin Harris, Dua Lipa   \n",
       "30                            Calvin Harris, Sam Smith, Jessie Reyez   \n",
       "31                                  Calvin Harris', \"Rag'n'Bone Man\"   \n",
       "32                                         Calvin Harris, The Weeknd   \n",
       "\n",
       "    song_year  \\\n",
       "0        2009   \n",
       "1        2009   \n",
       "2        2009   \n",
       "3        2011   \n",
       "4        2011   \n",
       "5        2012   \n",
       "6        2012   \n",
       "7        2012   \n",
       "8        2012   \n",
       "9        2012   \n",
       "10       2012   \n",
       "11       2012   \n",
       "12       2012   \n",
       "13       2012   \n",
       "14       2014   \n",
       "15       2014   \n",
       "16       2014   \n",
       "17       2014   \n",
       "18       2014   \n",
       "19       2014   \n",
       "20       2015   \n",
       "21       2016   \n",
       "22       2017   \n",
       "23       2017   \n",
       "24       2017   \n",
       "25       2017   \n",
       "26       2017   \n",
       "27       2017   \n",
       "28       2017   \n",
       "29       2018   \n",
       "30       2018   \n",
       "31       2019   \n",
       "32       2020   \n",
       "\n",
       "                                                                                                                                                                                                                                                                                                                                                                                                                                                                                                                                                                                                                                song_embeddings  \n",
       "0      [-0.6285380125045776, 0.8466413021087646, 1.0233451128005981, -0.28528594970703125, 0.7038078308105469, 0.5484970808029175, -0.8259185552597046, -0.11083891987800598, 0.2792535722255707, 0.11158110946416855, 0.672805905342102, 0.5593938827514648, 0.8224308490753174, -0.2334447205066681, 0.4897407591342926, -1.3351724705550174, -1.5406252453148743, -0.011030115749796763, 1.7460279903169285, -0.3092011481361043, -0.5313940449564866, 1.0805445857483271, -0.7039975151774578, 1.0250333372402145, -1.549546934208044, 0.7539144985217788, -0.307319630000332, 0.36420802995835755, -1.2520866301382436, 1.247808968405853]  \n",
       "1      [-0.18722771108150482, 1.2554978132247925, 1.2012852430343628, -0.4599727988243103, 0.8321321606636047, 0.5613057017326355, -1.1689554452896118, 0.6158842444419861, 0.013475783169269562, 0.005883281119167805, 1.540282130241394, 0.15665671229362488, 0.7777714729309082, -0.24798770248889923, 0.2923077344894409, -1.279491195315136, 0.46053670752705134, 0.004253770518922344, 1.8244917453695186, -0.3092011481361043, -0.5349904137531296, 1.6493680770749588, 0.6224578016611152, 0.958707209266951, -1.549546934208044, 0.5717452537264123, -0.35562082459241384, 0.3955535635781341, -1.2824790151505443, 1.247808968405853]  \n",
       "2       [-0.38968682289123535, 1.0622804164886475, 1.1023608446121216, -0.4288729727268219, 0.7453950643539429, 0.5736275911331177, -1.0266664028167725, 0.6310440301895142, 0.08780206739902496, 0.21935860812664032, 1.2747215032577515, 0.41602006554603577, 0.6876100301742554, -0.5072594881057739, 0.3114408552646637, -1.3273547556932577, 0.3074733286977821, -0.1491385696844665, 0.7932538218211915, -0.3092011481361043, -0.14309084999676247, 0.5117210944216953, 0.4914076629700189, 0.8665875870818629, 0.6453499264358126, 0.3895760089310457, -0.411077751716656, 0.46191895166730823, -0.36310936852844955, 1.247808968405853]  \n",
       "3          [-0.395832359790802, 1.1544952392578125, 1.2431914806365967, -0.4664417505264282, 0.6249920725822449, 0.5510679483413696, -1.0721592903137207, 0.26483750343322754, 0.2891601622104645, 0.11555533111095428, 1.21981942653656, 0.41196370124816895, 0.8828952312469482, -0.5569308400154114, 0.22388547658920288, -1.2744389306085564, 1.1181423350898372, -0.12151213480453658, 1.0660087798611477, -0.3092011481361043, -0.5305974929031516, -1.1947493795582, -0.5626912786757541, 1.2313812909348116, 0.6453499264358126, 1.9835569008905032, -0.37351015592281456, 0.36375280436636925, 0.2751307167298641, 1.3248652229298272]  \n",
       "4       [-0.4619847238063812, 0.8914391398429871, 1.063472867012024, -0.36505261063575745, 0.5351406931877136, 0.492635577917099, -0.6670371294021606, 0.22351916134357452, -0.13763128221035004, 0.0860186442732811, 0.6805768609046936, 0.4071314334869385, 0.47291994094848633, -0.17650116980075836, 0.2073664516210556, -1.2143435714671371, 1.9344803555126058, -0.20954668716662583, 0.9912813940967762, -0.3092011481361043, -0.5349944602375606, 1.6493680770749588, -0.30059100129356187, 1.2671763441267319, 0.6453499264358126, 1.5281337889020867, -0.3329610049072396, -0.1561798539118754, 1.00454795702508, 1.3248652229298272]  \n",
       "5    [-0.5047733187675476, 1.0658838748931885, 1.1152290105819702, -0.47992005944252014, 0.687364935874939, 0.7315778732299805, -1.008978009223938, 0.4123622179031372, -0.07694371789693832, 0.12144271284341812, 1.1705317497253418, 0.36791425943374634, 0.8056957721710205, -0.35605528950691223, 0.46867498755455017, -1.3383314655399736, 0.9650789562605678, -0.19120286091549893, 1.6563551273996828, -0.3092011481361043, -0.5125954164977816, 0.5117210944216953, -0.015699395443352974, 1.5196718418873827, 0.6453499264358126, 2.2112684568847114, -0.4170408621601229, 0.36215951479440944, 1.4870270690953529, 1.363393350191814]  \n",
       "6     [-0.5463921427726746, 1.0532793998718262, 1.2234747409820557, -0.510463297367096, 0.35872483253479004, 0.49691084027290344, -0.9932032823562622, 0.11034901440143585, 0.1575445830821991, 0.09580708295106888, 1.049813151359558, 0.7195221781730652, 0.6010255217552185, -0.4451219141483307, 0.14200323820114136, -0.8170760203287275, 0.20543107614493594, -0.14259962817167257, 1.6750369738407758, -0.3092011481361043, -0.5346376049176665, 0.7961328400850112, -0.8549900662780685, 1.3266593001662457, -1.549546934208044, 1.8469299672939783, 0.048081752430295104, 0.36206196645326905, 0.20674785045218758, 1.363393350191814]  \n",
       "7      [-0.43598711490631104, 1.1474380493164062, 1.2179644107818604, -0.5584360361099243, 0.39483460783958435, 0.5178744196891785, -0.9965513944625854, 0.26748108863830566, 0.15887410938739777, 0.3885841965675354, 1.2049258947372437, 0.5520941615104675, 0.6386106610298157, -0.3595333397388458, 0.28296908736228943, -0.2506905558542882, 0.8970507878920038, 0.030931386799656055, 1.4508548165476611, -0.3092011481361043, -0.5349944602375606, 0.7961328400850112, 0.17232906441778495, 1.1294355757166477, 0.6453499264358126, 1.8013876560951365, -0.31387905148814554, 0.2663020115671261, 0.1991497541991124, 1.363393350191814]  \n",
       "8      [-0.5004657506942749, 1.1075575351715088, 1.317096471786499, -0.6495700478553772, 0.14445802569389343, 0.6780844926834106, -0.9535553455352783, 0.2808545231819153, -0.052567798644304276, 0.27093276381492615, 1.186755895614624, 0.6688621044158936, 0.8233105540275574, -0.3870493471622467, 0.23052085936069489, -1.3202549942371695, 0.9820859983527089, 0.01743444222608983, 1.4994276172945025, -0.3092011481361043, -0.5104287949127105, -0.34151414256825235, 0.4971054950870231, 1.5038799066556534, -1.549546934208044, 1.5736761001009283, -0.24709221452131636, 0.36472828777777266, 1.3198689515276991, 1.363393350191814]  \n",
       "9          [-0.46033337712287903, 0.9587727189064026, 0.9918168187141418, -0.39612647891044617, 0.3049544394016266, 0.45470932126045227, -0.7973266243934631, 0.2169901579618454, 0.061282020062208176, 0.2967797517776489, 0.9496392011642456, 0.4828426241874695, 0.6747055649757385, -0.3045465052127838, 0.18901750445365906, -1.3339492906786878, 1.067121208813414, 0.1370883744063931, 1.4695366629887539, -0.3092011481361043, -0.5336817424536646, -1.479161125221516, -0.6322048305032051, 1.3664900701396077, -1.549546934208044, 1.61921841129977, -0.36575811234630756, 0.3637202882526556, 0.8373898394574263, 1.363393350191814]  \n",
       "10      [-0.5783173441886902, 1.0160670280456543, 1.3765041828155518, -0.4177810251712799, 0.556481659412384, 0.6267759799957275, -1.0034246444702148, 0.11103783547878265, 0.2268877625465393, -0.11408378183841705, 1.1011881828308105, 0.6485767960548401, 0.5675836205482483, -0.4366135597229004, 0.29236501455307007, -1.334933152753127, 0.23377614629850432, -0.09808422222604993, 1.7385552517404912, -0.3092011481361043, -0.5218672823986005, 1.6493680770749588, -0.6276465648096017, 1.3428021672920136, -1.549546934208044, 0.9360837433171454, -0.31447536253249225, 0.30216728499307355, 0.2295421392114131, 1.363393350191814]  \n",
       "11         [-0.6072683930397034, 1.0415412187576294, 1.2525688409805298, -0.554114818572998, 0.23439966142177582, 0.5523579716682434, -0.850540041923523, 0.17462150752544403, -0.07456663995981216, 0.37598150968551636, 0.7990418076515198, 0.7304195165634155, 0.670412003993988, -0.2591187655925751, 0.34616875648498535, -1.2521026024320998, 1.3732479664719526, -0.06648065605115584, 1.802073529640207, -0.3092011481361043, 1.0358061889389716, -0.9103376338948841, 2.6053033783785695, 1.6454809259001602, -1.549546934208044, 1.4370491665044034, -0.36396917921326755, 0.3622895792492634, 0.8791793688493397, 1.363393350191814]  \n",
       "12       [-0.34303349256515503, 1.0629302263259888, 1.2345219850540161, -0.4126872718334198, 0.31495288014411926, 0.6585813760757446, -1.0607115030288696, 0.3868827819824219, 0.06580272316932678, 0.1924581229686737, 1.1989325284957886, 0.525166392326355, 0.7104155421257019, -0.4170932173728943, 0.10367453843355179, -1.3374326942395398, 0.3358183988513505, 0.029769084015640684, 1.7609734674698028, -0.3092011481361043, -0.5349944602375606, 0.5117210944216953, 2.2292464586562937, 1.252612670524137, 0.6453499264358126, 1.5281337889020867, -0.08131774419293655, 0.36241964370411694, 0.16495832106027414, 1.363393350191814]  \n",
       "13          [-0.5175632834434509, 0.9395996928215027, 1.1140785217285156, -0.3954555094242096, 0.2678661048412323, 0.5146007537841797, -0.7304662466049194, 0.100226029753685, -0.05838935449719429, 0.20136600732803345, 0.8501102924346924, 0.668461263179779, 0.509284496307373, -0.46431758999824524, 0.1585930734872818, -1.2162049321485084, 0.7269803669705941, 0.07710722529387208, 1.5143730944473768, -0.3092011481361043, -0.5347956408450482, 1.0805445857483271, -0.878920961169486, 1.2857757345107685, -1.549546934208044, 1.4370491665044034, -0.2953934091133982, 0.3662240290085925, 0.009197347872233573, 1.363393350191814]  \n",
       "14      [-0.7613062858581543, 1.0960277318954468, 1.3504230976104736, -0.4698917865753174, 0.6255606412887573, 0.7610546350479126, -1.0971524715423584, -0.06843571364879608, 0.14927394688129425, -0.005667893681675196, 0.8910790681838989, 0.5806847810745239, 0.817599892616272, -0.4649577736854553, 0.5941649675369263, -1.284809368690483, 0.3358183988513505, -0.06374489575680674, 1.4022820158008196, -0.3092011481361043, -0.4782799540401117, -0.34151414256825235, -0.37466281881461627, 1.394389155715663, -1.549546934208044, 2.2112684568847114, -0.3955736645636421, 0.362549708158971, 0.8183945988247383, 1.440449604715788]  \n",
       "15    [-0.5524161458015442, 1.0612788200378418, 1.2223753929138184, -0.597324788570404, 0.28831225633621216, 0.5572599172592163, -0.8451144695281982, -0.007535845041275024, 0.14598800241947174, 0.3751460909843445, 0.9972116947174072, 0.7288843393325806, 0.7081607580184937, -0.27095767855644226, 0.3393542468547821, -0.7745306333259528, 0.6192691003870343, -0.02631400201851587, 1.2789818292896065, -0.3092011481361043, -0.5349944602375606, -0.9103376338948841, 0.6566447943631403, 1.2948999637557677, -1.549546934208044, 2.2112684568847114, -0.366950734435001, 0.36534609393832856, -0.41629604229997574, 1.440449604715788]  \n",
       "16   [-0.6459462642669678, 1.1695157289505005, 1.4460792541503906, -0.46578994393348694, 0.4820844233036041, 0.5743623375892639, -1.1283818483352661, -0.04779732972383499, -0.008493826724588871, 0.25562575459480286, 0.7806689143180847, 0.6810996532440186, 0.8276764750480652, -0.5922031998634338, 0.36630046367645264, -1.2646003098641647, -0.6959421547385375, -0.13943689950768517, 1.406018385089038, -0.3092011481361043, -0.51670562509299, -1.479161125221516, 0.7762992688202281, 1.3027959313716324, -1.549546934208044, 2.0290992120893447, -0.12007796207547143, 0.36498841668748067, -0.6822294111576065, 1.440449604715788]  \n",
       "17      [-0.5939456224441528, 1.0801390409469604, 1.25258469581604, -0.47050008177757263, 0.2951200008392334, 0.5139272212982178, -0.8274775743484497, 0.15722905099391937, 0.12750862538814545, 0.2407466471195221, 1.0186655521392822, 0.6600777506828308, 0.6969241499900818, -0.3297068476676941, 0.2974865734577179, -0.9978939150905204, 0.04102966925423999, -0.36620454471558167, 1.6227278038057156, -0.3092011481361043, -0.532082265930568, 0.7961328400850112, -0.5228064538567248, 1.4208845137155646, 0.6453499264358126, 1.8924722784928198, -0.10039969761203067, 0.30223231722050037, -0.06678361465851812, 1.440449604715788]  \n",
       "18     [-0.5060393214225769, 1.075028896331787, 1.1441725492477417, -0.4525839686393738, 0.24197150766849518, 0.48752689361572266, -0.9191593527793884, 0.16875968873500824, 0.10896065831184387, 0.2005489617586136, 0.9636539220809937, 0.6817213296890259, 0.6326252818107605, -0.3608156740665436, 0.17002882063388824, -1.3010297974852907, 0.39250853915848727, 0.01290383341492788, 1.7497643596051469, -0.3092011481361043, -0.5349065208908724, 0.5117210944216953, -0.5569934465587499, 1.5359901749601697, -1.549546934208044, 1.4370491665044034, -0.3550245135480672, 0.10508711977578558, -0.3479131760222992, 1.440449604715788]  \n",
       "19            [-0.5884681344032288, 1.1525570154190063, 1.490252137184143, -0.6084569096565247, 0.3083697259426117, 0.6000824570655823, -0.892249584197998, -0.047010570764541626, 0.19504092633724213, 0.37990495562553406, 1.1722034215927124, 0.8088203072547913, 0.6593764424324036, -0.535600483417511, 0.46478405594825745, -1.1553118470007873, 1.2655366998883928, -0.3403729583524646, 1.7273461438758355, 3.2341406428407566, -0.5349944602375606, -1.1947493795582, 1.8133047141149887, 1.5440616085230539, 0.6453499264358126, 1.254879921709037, -0.38543637680974835, 0.36342764322923443, 0.6018488556120964, 1.440449604715788]  \n",
       "20           [-0.4848483204841614, 1.1123898029327393, 1.2252197265625, -0.3457117974758148, 0.6014406085014343, 0.5255178809165955, -0.9995371103286743, 0.15803970396518707, 0.14364130795001984, -0.14717474579811096, 1.272888422012329, 0.28564944863319397, 0.6386968493461609, -0.6341426372528076, 0.21738643944263458, -1.2374776256498958, 1.140818391212692, -0.1419670824388751, 1.4471184472594425, -0.3092011481361043, -0.5295460441927495, 1.6493680770749588, 1.032701714085416, 1.251033477000964, -1.549546934208044, 2.0746415232881863, -0.16599391249016654, 0.16920889601873085, -0.7278179886760573, 1.478977731977775]  \n",
       "21       [-0.4568229615688324, 1.3074296712875366, 1.2667139768600464, -0.5594730377197266, 0.2744532823562622, 0.5621815919876099, -1.1001359224319458, 0.3401419520378113, 0.022161025553941727, 0.1467675417661667, 1.356055736541748, 0.399091899394989, 0.7719624042510986, -0.6291545033454895, 0.17865049839019775, -0.8117578469533806, 0.5285648758956155, -0.06669414023597499, 1.6713006045525571, -0.3092011481361043, -0.13990464178342266, 1.0805445857483271, -0.33477799399558694, 1.5293224689734395, -1.549546934208044, 2.16572614568587, -0.4045183302288425, 0.23294047889711456, -0.23774078035270924, 1.517505859239762]  \n",
       "22  [-0.7080979347229004, 0.8106701970100403, 1.1352225542068481, -0.39254674315452576, 0.4533507227897644, 0.5342645645141602, -0.6350218057632446, 0.03860374540090561, 0.10561897605657578, 0.021081143990159035, 0.7881348729133606, 0.5846544504165649, 0.6968555450439453, -0.3734216094017029, 0.243678480386734, -0.024668187402047063, 1.3505719103490978, -0.46483423810202873, 0.3448895072349624, -0.3092011481361043, -0.5349944602375606, 1.6493680770749588, -0.46013030056967885, 1.1527725466702032, 0.6453499264358126, 2.0290992120893447, -0.2530553249647832, -0.48364963512014286, 0.5296669412078823, 1.556033986501749]  \n",
       "23    [-0.8240345120429993, 1.1283981800079346, 1.4215871095657349, -0.6955533027648926, 0.21241874992847443, 0.60829097032547, -1.0195199251174927, -0.14519165456295013, 0.07144079357385635, 0.018586501479148865, 0.9250726103782654, 0.571941077709198, 0.8197196125984192, -0.31729552149772644, 0.2432078719139099, -0.016690927339026784, 1.1294803631512644, 0.0017235875877324247, 1.1743634892194865, 3.2341406428407566, -0.5349906049256224, -1.1947493795582, 0.2691922104068561, 1.4394839040996015, -1.549546934208044, 1.8924722784928198, -0.2769077667386508, -0.41403263565962234, -0.06298456653198053, 1.556033986501749]  \n",
       "24       [-0.49866625666618347, 1.140196681022644, 1.5119439363479614, -0.6415231823921204, 0.32457467913627625, 0.6457487344741821, -0.7478659749031067, -0.14077404141426086, 0.017145521938800812, 0.3867860436439514, 0.9636114835739136, 0.6271526217460632, 0.8481064438819885, -0.4305969178676605, 0.40544721484184265, -1.1702027324517583, 2.019515565973311, -0.05678689269603446, 0.9875450248085577, 3.2341406428407566, -0.5349944602375606, 1.6493680770749588, -0.6407515786787114, 1.473524297821329, -1.549546934208044, 1.9835569008905032, -0.26140367958563687, -0.513141750258252, 1.3084718071480863, 1.556033986501749]  \n",
       "25        [-0.5570228695869446, 1.1381168365478516, 1.3681343793869019, -0.7015326023101807, 0.1919490545988083, 0.6239373683929443, -0.8207851648330688, -0.14727726578712463, 0.16449972987174988, 0.37705621123313904, 1.0084015130996704, 0.8870821595191956, 0.7306995987892151, -0.3128957450389862, 0.3203561007976532, -0.1443270883473511, 1.2315226157041106, 0.3326557013440539, 1.0510633027082734, 3.2341406428407566, -0.5347819401497308, 0.2273093487583794, 0.09825724689673071, 1.2312058249877926, -1.549546934208044, 1.5736761001009283, -0.09562920925725711, -0.8063070314988182, 0.5524612299671078, 1.556033986501749]  \n",
       "26    [-0.8225916624069214, 1.0584816932678223, 1.3613543510437012, -0.6634804010391235, 0.22716352343559265, 0.5867148041725159, -0.9289129376411438, -0.11545233428478241, 0.07145316898822784, 0.01220144797116518, 0.8655043840408325, 0.5559359788894653, 0.7999839186668396, -0.32585468888282776, 0.1978074461221695, -0.016690927339026784, 1.1294803631512644, 0.0017235875877324247, 1.1743634892194865, 3.2341406428407566, -0.5349906049256224, -1.1947493795582, 0.2691922104068561, 1.4394839040996015, -1.549546934208044, 1.61921841129977, -0.2769077667386508, -0.41403263565962234, -0.06298456653198053, 1.556033986501749]  \n",
       "27    [-0.49838510155677795, 1.0715062618255615, 1.2740086317062378, -0.7071957588195801, 0.1951567381620407, 0.6125378012657166, -0.6959101557731628, -0.13186714053153992, 0.19241298735141754, 0.44077369570732117, 1.1333856582641602, 0.7643054127693176, 0.7588388919830322, -0.30926913022994995, 0.21471011638641357, -0.4926674444325697, 1.3562409243798115, 0.07509889259224008, 0.40467141584645966, 3.2341406428407566, -0.5349944602375606, 1.0805445857483271, -0.7706621509464066, 1.2212042660076972, -1.549546934208044, 1.3915068553055618, 0.08386041509109653, 0.10518466811692596, 0.5334659893344199, 1.556033986501749]  \n",
       "28        [-0.5999216437339783, 1.0588120222091675, 1.3101179599761963, -0.6648995280265808, 0.21174375712871552, 0.5973560810089111, -0.7532332539558411, -0.11388598382472992, 0.14900366961956024, 0.3102167844772339, 0.9283263683319092, 0.8167752027511597, 0.7236077785491943, -0.3231392204761505, 0.2570531368255615, -0.15496343509804483, 1.225853601673397, 0.33254500584081437, 1.0435905641318364, 3.2341406428407566, -0.534894731920483, 0.2273093487583794, -0.14105170201744485, 1.2255909146831776, -1.549546934208044, 1.3915068553055618, -0.0896660988137902, -0.8079003210707776, 0.4916764599425064, 1.556033986501749]  \n",
       "29        [-0.4297018051147461, 1.1363933086395264, 1.2851148843765259, -0.34560152888298035, 0.3404502272605896, 0.578003466129303, -0.8163579106330872, 0.12489573657512665, 0.252063125371933, 0.26252758502960205, 0.9819726347923279, 0.6180420517921448, 0.6204191446304321, -0.2001650631427765, 0.3188706934452057, -1.2425298903564754, 1.4412761348405165, -0.12451672703532461, 1.424700231530131, -0.3092011481361043, -0.5349246822776885, 1.0805445857483271, -0.7142536129880652, 1.449836394973735, -1.549546934208044, 2.3023530792823945, 0.054044862873762006, 0.23394847842223204, 0.24473833171756343, 1.5945621137637358]  \n",
       "30      [-0.22072052955627441, 0.8008583188056946, 1.345070242881775, -0.4456001818180084, 0.6062564253807068, 0.698062002658844, -1.0019447803497314, -0.15576855838298798, -0.08000590652227402, 0.23068784177303314, 0.8917500972747803, 0.5035368800163269, 0.8574088215827942, -0.37270689010620117, 0.14223997294902802, -1.3092729662170783, 1.3845859945333798, -0.13667741874835615, 1.073481518437585, -0.3092011481361043, -0.5349788159552331, 1.6493680770749588, 0.6737382907141528, 0.9671295747238734, 0.6453499264358126, 2.256810768083553, -0.366950734435001, 0.2039035893509937, -0.15796076969542017, 1.5945621137637358]  \n",
       "31       [-0.4497169554233551, 0.9250536561012268, 1.023553729057312, -0.3846795856952667, 0.26857438683509827, 0.6428205370903015, -0.4705349802970886, 0.17850705981254578, -0.031419090926647186, 0.3095611333847046, 0.912738025188446, 0.6191327571868896, 0.5785417556762695, -0.8157736659049988, 0.10061588138341904, -1.2983707107976172, 1.5319803593319354, -0.011156624896356259, 1.5181094637355954, -0.3092011481361043, -0.5333917975062507, -1.1947493795582, -0.7159629626231665, 1.2619123657161553, -1.549546934208044, 2.16572614568587, -0.38662899889844177, 0.16959908938329238, 0.2979250054890896, 1.6330902410257229]  \n",
       "32                [-0.5160962343215942, 1.0956298112869263, 1.427526593208313, -0.4294871687889099, 0.3518286347389221, 0.671254575252533, -1.050647258758545, 0.1715652346611023, 0.03539188206195831, 0.01853059232234955, 1.0682851076126099, 0.6852697134017944, 0.6273256540298462, -0.6179031133651733, 0.3606739342212677, -1.1390914182059793, 0.4265226233427693, -0.15655516840151695, 1.5069003558709397, 3.2341406428407566, -0.530788665395952, -0.34151414256825235, 0.2293073855878268, 1.29665462322596, -1.549546934208044, 2.256810768083553, -0.33117207177419955, 1.9914119085210957, 0.5752555187263333, 1.67161836828771]  "
      ]
     },
     "execution_count": 95,
     "metadata": {},
     "output_type": "execute_result"
    }
   ],
   "source": [
    "table.query(filter=[(\"like\", \"song_artists\", \"*Calvin Harris*\")], sort_by=\"song_year\")"
   ]
  },
  {
   "cell_type": "markdown",
   "metadata": {},
   "source": [
    "## Find A Specific Song"
   ]
  },
  {
   "cell_type": "code",
   "execution_count": 97,
   "metadata": {},
   "outputs": [],
   "source": [
    "song = table.query(\n",
    "    filter=[\n",
    "        (\"like\", \"song_artists\", \"*Calvin Harris*\"),\n",
    "        (\"like\", \"song_name\", \"*We Found Love*\"),\n",
    "    ]\n",
    ")"
   ]
  },
  {
   "cell_type": "code",
   "execution_count": 106,
   "metadata": {},
   "outputs": [
    {
     "data": {
      "text/plain": [
       "array([array([-0.39583236,  1.15449524,  1.24319148, -0.46644175,  0.62499207,\n",
       "               0.55106795, -1.07215929,  0.2648375 ,  0.28916016,  0.11555533,\n",
       "               1.21981943,  0.4119637 ,  0.88289523, -0.55693084,  0.22388548,\n",
       "              -1.27443893,  1.11814234, -0.12151213,  1.06600878, -0.30920115,\n",
       "              -0.53059749, -1.19474938, -0.56269128,  1.23138129,  0.64534993,\n",
       "               1.9835569 , -0.37351016,  0.3637528 ,  0.27513072,  1.32486522])],\n",
       "      dtype=object)"
      ]
     },
     "execution_count": 106,
     "metadata": {},
     "output_type": "execute_result"
    }
   ],
   "source": [
    "song['song_embeddings'].values"
   ]
  },
  {
   "cell_type": "markdown",
   "metadata": {},
   "source": [
    "## Find Similar Songs To This Song"
   ]
  },
  {
   "cell_type": "markdown",
   "metadata": {},
   "source": [
    "* We can then copy and paste the vector associated with this song below and save it as the variable my_vec.\n",
    "\n",
    "* We will then use KDB.AI's .search() function to find similar songs in the dataset to this song using this vector. We will pull out the 5 songs most similar to this song from the dataset."
   ]
  },
  {
   "cell_type": "code",
   "execution_count": 107,
   "metadata": {},
   "outputs": [],
   "source": [
    "my_vec = [-0.39583236,  1.15449524,  1.24319148, -0.46644175,  0.62499207,\n",
    "               0.55106795, -1.07215929,  0.2648375 ,  0.28916016,  0.11555533,\n",
    "               1.21981943,  0.4119637 ,  0.88289523, -0.55693084,  0.22388548,\n",
    "              -1.27443893,  1.11814234, -0.12151213,  1.06600878, -0.30920115,\n",
    "              -0.53059749, -1.19474938, -0.56269128,  1.23138129,  0.64534993,\n",
    "               1.9835569 , -0.37351016,  0.3637528 ,  0.27513072,  1.32486522]"
   ]
  },
  {
   "cell_type": "code",
   "execution_count": 108,
   "metadata": {},
   "outputs": [
    {
     "data": {
      "text/html": [
       "<div>\n",
       "<style scoped>\n",
       "    .dataframe tbody tr th:only-of-type {\n",
       "        vertical-align: middle;\n",
       "    }\n",
       "\n",
       "    .dataframe tbody tr th {\n",
       "        vertical-align: top;\n",
       "    }\n",
       "\n",
       "    .dataframe thead th {\n",
       "        text-align: right;\n",
       "    }\n",
       "</style>\n",
       "<table border=\"1\" class=\"dataframe\">\n",
       "  <thead>\n",
       "    <tr style=\"text-align: right;\">\n",
       "      <th></th>\n",
       "      <th>song_name</th>\n",
       "      <th>song_artists</th>\n",
       "      <th>song_year</th>\n",
       "      <th>song_embeddings</th>\n",
       "      <th>__nn_distance</th>\n",
       "    </tr>\n",
       "  </thead>\n",
       "  <tbody>\n",
       "    <tr>\n",
       "      <th>0</th>\n",
       "      <td>We Found Love</td>\n",
       "      <td>Rihanna, Calvin Harris</td>\n",
       "      <td>2011</td>\n",
       "      <td>[-0.395832359790802, 1.1544952392578125, 1.2431914806365967, -0.4664417505264282, 0.6249920725822449, 0.5510679483413696, -1.0721592903137207, 0.26483750343322754, 0.2891601622104645, 0.11555533111095428, 1.21981942653656, 0.41196370124816895, 0.8828952312469482, -0.5569308400154114, 0.22388547658920288, -1.2744389306085564, 1.1181423350898372, -0.12151213480453658, 1.0660087798611477, -0.3092011481361043, -0.5305974929031516, -1.1947493795582, -0.5626912786757541, 1.2313812909348116, 0.6453499264358126, 1.9835569008905032, -0.37351015592281456, 0.36375280436636925, 0.2751307167298641, 1.3248652229298272]</td>\n",
       "      <td>5.551115e-17</td>\n",
       "    </tr>\n",
       "    <tr>\n",
       "      <th>1</th>\n",
       "      <td>Bad At Love</td>\n",
       "      <td>Halsey</td>\n",
       "      <td>2017</td>\n",
       "      <td>[-0.39427173137664795, 0.9801872372627258, 1.4450923204421997, -0.06416860967874527, 0.4925714433193207, 0.5829696655273438, -0.9506996870040894, 0.527362048625946, 0.0296584852039814, 0.06679753214120865, 1.4343153238296509, 0.22768719494342804, 0.5910521745681763, -0.7142414450645447, 0.2921365797519684, -1.1803072618649173, 0.7836705072777309, -0.3899329165171471, 1.0099632405378691, -0.3092011481361043, -0.5349944602375606, -1.479161125221516, -0.6692407392637322, 1.3973720768149898, 0.6453499264358126, 1.9380145896916616, -0.4253892167809766, 0.051533080489714826, 0.32071929424831513, 1.556033986501749]</td>\n",
       "      <td>1.072962e+00</td>\n",
       "    </tr>\n",
       "    <tr>\n",
       "      <th>2</th>\n",
       "      <td>Sweet but Psycho</td>\n",
       "      <td>Ava Max</td>\n",
       "      <td>2020</td>\n",
       "      <td>[-0.3100762665271759, 0.8217790722846985, 1.052780270576477, -0.3912770748138428, 0.8506655097007751, 0.44856008887290955, -0.9023488163948059, 0.4196978807449341, 0.06710892170667648, 0.3673953115940094, 1.010184407234192, 0.37544646859169006, 0.6761094927787781, -0.7477214336395264, 0.12259583920240402, -1.15903456836353, 1.0387761386598457, -0.3412506155567211, 0.841826622568033, -0.3092011481361043, -0.5349944602375606, -1.1947493795582, -0.23221701588951166, 1.1903222593323153, 0.6453499264358126, 2.393437701680078, -0.31984216193161247, 0.5268536307530907, 0.3511116792606158, 1.67161836828771]</td>\n",
       "      <td>1.074219e+00</td>\n",
       "    </tr>\n",
       "    <tr>\n",
       "      <th>3</th>\n",
       "      <td>No One Compares To You</td>\n",
       "      <td>Jack &amp; Jack</td>\n",
       "      <td>2019</td>\n",
       "      <td>[-0.3926072120666504, 0.9080239534378052, 1.2196005582809448, -0.37756675481796265, 0.6168422698974609, 0.36700090765953064, -1.003049612045288, 0.1774161159992218, -0.2515731751918793, 0.07888683676719666, 1.47105073928833, 0.30899298191070557, 0.5672707557678223, -0.5869125723838806, 0.21700964868068695, -1.0032120884658673, 0.9253958580455721, -0.37695782217313883, 0.9987541326732133, -0.3092011481361043, -0.5349944602375606, -1.1947493795582, -0.6418911451021122, 0.9578298795318549, 0.6453499264358126, 1.8924722784928198, -0.3430982926611334, -0.15803327239354273, 0.39290120865252925, 1.6330902410257229]</td>\n",
       "      <td>1.235570e+00</td>\n",
       "    </tr>\n",
       "    <tr>\n",
       "      <th>4</th>\n",
       "      <td>Stay Gold</td>\n",
       "      <td>BTS</td>\n",
       "      <td>2020</td>\n",
       "      <td>[-0.44078055024147034, 0.7353340983390808, 1.1338534355163574, -0.2378760278224945, 0.5972615480422974, 0.6965059041976929, -0.8683232069015503, 0.3174038529396057, -0.29134994745254517, -0.02070758491754532, 1.2180349826812744, 0.30266204476356506, 0.4935379922389984, -0.6740594506263733, 0.288332998752594, -1.1037255652599227, 1.0557831807519866, 0.1001951445409801, 0.5728080338162957, -0.3092011481361043, -0.5349944602375606, -1.1947493795582, -0.7296377597039766, 1.0681979602069414, 0.6453499264358126, 2.2112684568847114, -0.2786966998716909, 0.39727691760494743, 0.20674785045218758, 1.67161836828771]</td>\n",
       "      <td>1.411960e+00</td>\n",
       "    </tr>\n",
       "  </tbody>\n",
       "</table>\n",
       "</div>"
      ],
      "text/plain": [
       "                song_name            song_artists  song_year  \\\n",
       "0           We Found Love  Rihanna, Calvin Harris       2011   \n",
       "1             Bad At Love                  Halsey       2017   \n",
       "2        Sweet but Psycho                 Ava Max       2020   \n",
       "3  No One Compares To You             Jack & Jack       2019   \n",
       "4               Stay Gold                     BTS       2020   \n",
       "\n",
       "                                                                                                                                                                                                                                                                                                                                                                                                                                                                                                                                                                                                                           song_embeddings  \\\n",
       "0     [-0.395832359790802, 1.1544952392578125, 1.2431914806365967, -0.4664417505264282, 0.6249920725822449, 0.5510679483413696, -1.0721592903137207, 0.26483750343322754, 0.2891601622104645, 0.11555533111095428, 1.21981942653656, 0.41196370124816895, 0.8828952312469482, -0.5569308400154114, 0.22388547658920288, -1.2744389306085564, 1.1181423350898372, -0.12151213480453658, 1.0660087798611477, -0.3092011481361043, -0.5305974929031516, -1.1947493795582, -0.5626912786757541, 1.2313812909348116, 0.6453499264358126, 1.9835569008905032, -0.37351015592281456, 0.36375280436636925, 0.2751307167298641, 1.3248652229298272]   \n",
       "1  [-0.39427173137664795, 0.9801872372627258, 1.4450923204421997, -0.06416860967874527, 0.4925714433193207, 0.5829696655273438, -0.9506996870040894, 0.527362048625946, 0.0296584852039814, 0.06679753214120865, 1.4343153238296509, 0.22768719494342804, 0.5910521745681763, -0.7142414450645447, 0.2921365797519684, -1.1803072618649173, 0.7836705072777309, -0.3899329165171471, 1.0099632405378691, -0.3092011481361043, -0.5349944602375606, -1.479161125221516, -0.6692407392637322, 1.3973720768149898, 0.6453499264358126, 1.9380145896916616, -0.4253892167809766, 0.051533080489714826, 0.32071929424831513, 1.556033986501749]   \n",
       "2           [-0.3100762665271759, 0.8217790722846985, 1.052780270576477, -0.3912770748138428, 0.8506655097007751, 0.44856008887290955, -0.9023488163948059, 0.4196978807449341, 0.06710892170667648, 0.3673953115940094, 1.010184407234192, 0.37544646859169006, 0.6761094927787781, -0.7477214336395264, 0.12259583920240402, -1.15903456836353, 1.0387761386598457, -0.3412506155567211, 0.841826622568033, -0.3092011481361043, -0.5349944602375606, -1.1947493795582, -0.23221701588951166, 1.1903222593323153, 0.6453499264358126, 2.393437701680078, -0.31984216193161247, 0.5268536307530907, 0.3511116792606158, 1.67161836828771]   \n",
       "3  [-0.3926072120666504, 0.9080239534378052, 1.2196005582809448, -0.37756675481796265, 0.6168422698974609, 0.36700090765953064, -1.003049612045288, 0.1774161159992218, -0.2515731751918793, 0.07888683676719666, 1.47105073928833, 0.30899298191070557, 0.5672707557678223, -0.5869125723838806, 0.21700964868068695, -1.0032120884658673, 0.9253958580455721, -0.37695782217313883, 0.9987541326732133, -0.3092011481361043, -0.5349944602375606, -1.1947493795582, -0.6418911451021122, 0.9578298795318549, 0.6453499264358126, 1.8924722784928198, -0.3430982926611334, -0.15803327239354273, 0.39290120865252925, 1.6330902410257229]   \n",
       "4     [-0.44078055024147034, 0.7353340983390808, 1.1338534355163574, -0.2378760278224945, 0.5972615480422974, 0.6965059041976929, -0.8683232069015503, 0.3174038529396057, -0.29134994745254517, -0.02070758491754532, 1.2180349826812744, 0.30266204476356506, 0.4935379922389984, -0.6740594506263733, 0.288332998752594, -1.1037255652599227, 1.0557831807519866, 0.1001951445409801, 0.5728080338162957, -0.3092011481361043, -0.5349944602375606, -1.1947493795582, -0.7296377597039766, 1.0681979602069414, 0.6453499264358126, 2.2112684568847114, -0.2786966998716909, 0.39727691760494743, 0.20674785045218758, 1.67161836828771]   \n",
       "\n",
       "   __nn_distance  \n",
       "0   5.551115e-17  \n",
       "1   1.072962e+00  \n",
       "2   1.074219e+00  \n",
       "3   1.235570e+00  \n",
       "4   1.411960e+00  "
      ]
     },
     "execution_count": 108,
     "metadata": {},
     "output_type": "execute_result"
    }
   ],
   "source": [
    "table.search(vectors=[my_vec], n=5)[0]"
   ]
  },
  {
   "cell_type": "markdown",
   "metadata": {},
   "source": [
    "## Automate This Song Similarity Search Process\n"
   ]
  },
  {
   "cell_type": "code",
   "execution_count": 109,
   "metadata": {},
   "outputs": [],
   "source": [
    "def find_similar_songs(\n",
    "    vectorDB_song_tab,\n",
    "    song_name: str,\n",
    "    song_artists: list[str] = None,\n",
    "    song_year: int = None,\n",
    "    n_similar: int = 5,\n",
    "    exact: bool = False,\n",
    ") -> None:\n",
    "    # create filter list\n",
    "    filter_list = [(\"like\", \"song_name\", f\"{song_name}\" if exact else f\"*{song_name}*\")]\n",
    "    if song_artists:\n",
    "        if type(song_artists) == str:\n",
    "            song_artists = list(song_artists)\n",
    "        for artist in song_artists:\n",
    "            filter_list.append((\"like\", \"song_artists\", f\"*{artist}*\"))\n",
    "    if song_year:\n",
    "        filter_list.append((\"like\", \"song_year\", f\"{song_year}\"))\n",
    "\n",
    "    # find songs liks this in vector DB\n",
    "    resulting_song = vectorDB_song_tab.query(filter=filter_list, sort_by=\"song_year\")\n",
    "\n",
    "    # quality check\n",
    "    if resulting_song.empty:\n",
    "        print(\n",
    "            \"Song Not Found! Please double check the values entered or try another song\"\n",
    "        )\n",
    "        return\n",
    "\n",
    "    # find vectors associated with these songs\n",
    "    resulting_vectors = [v.tolist() for v in resulting_song[\"song_embeddings\"]]\n",
    "\n",
    "    # search for similar songs to selected songs\n",
    "    similar_songs = vectorDB_song_tab.search(vectors=resulting_vectors, n=n_similar + 1)\n",
    "\n",
    "    # process similar song table\n",
    "    for i, similar_df in enumerate(similar_songs):\n",
    "        name = resulting_song.loc[i, \"song_name\"]\n",
    "        artists = resulting_song.loc[i, \"song_artists\"]\n",
    "        year = resulting_song.loc[i, \"song_year\"]\n",
    "        print(f\"Songs Similar To '{name}' By '{artists}' ({year})\")\n",
    "        for j, song in similar_df[1:].iterrows():\n",
    "            print(\n",
    "                f\"   {j}. {song['song_name']} - {song['song_artists']} ({song['song_year']})\"\n",
    "            )\n",
    "        print()"
   ]
  },
  {
   "cell_type": "code",
   "execution_count": 110,
   "metadata": {},
   "outputs": [
    {
     "name": "stdout",
     "output_type": "stream",
     "text": [
      "Songs Similar To 'Let's Go (feat. Ne-Yo)' By 'Calvin Harris, Ne-Yo' (2012)\n",
      "   1. I Cry - Flo Rida (2012)\n",
      "   2. Mmm Yeah (feat. Pitbull) - Austin Mahone, Pitbull (2014)\n",
      "   3. Too Much (feat. Usher) - Marshmello, Imanbek, Usher (2020)\n",
      "   4. All Around The World - Justin Bieber, Ludacris (2012)\n",
      "   5. No Money - Galantis (2016)\n",
      "\n"
     ]
    }
   ],
   "source": [
    "find_similar_songs(table, song_name=\"Let's Go\", song_artists=[\"Calvin Harris\", \"Ne-Yo\"])"
   ]
  },
  {
   "cell_type": "code",
   "execution_count": 111,
   "metadata": {},
   "outputs": [
    {
     "name": "stdout",
     "output_type": "stream",
     "text": [
      "Songs Similar To 'Californication' By 'Red Hot Chili Peppers' (1999)\n",
      "   1. Police Station - Red Hot Chili Peppers (2011)\n",
      "   2. Charlie - Red Hot Chili Peppers (2006)\n",
      "   3. Especially in Michigan - Red Hot Chili Peppers (2006)\n",
      "   4. Dark Necessities - Red Hot Chili Peppers (2016)\n",
      "   5. Don't Forget Me - Red Hot Chili Peppers (2002)\n",
      "   6. Cabron - Red Hot Chili Peppers (2002)\n",
      "   7. Face Down - The Red Jumpsuit Apparatus (2006)\n",
      "   8. Look Around - Red Hot Chili Peppers (2011)\n",
      "\n"
     ]
    }
   ],
   "source": [
    "find_similar_songs(\n",
    "    table,\n",
    "    song_name=\"Californication\",\n",
    "    song_artists=\"Red Hot Chili Peppers\",\n",
    "    n_similar=8,\n",
    ")"
   ]
  },
  {
   "cell_type": "markdown",
   "metadata": {},
   "source": [
    "## All artist with a given name song name"
   ]
  },
  {
   "cell_type": "code",
   "execution_count": 112,
   "metadata": {},
   "outputs": [
    {
     "name": "stdout",
     "output_type": "stream",
     "text": [
      "Songs Similar To 'Love Me' By 'Elvis Presley' (1956)\n",
      "   1. Without Him - Elvis Presley (1967)\n",
      "   2. Don't - Elvis Presley (1959)\n",
      "   3. Fine And Mellow - Billie Holiday (1957)\n",
      "   4. Everything I Have Is Yours - 10'' Version - Billie Holiday (1956)\n",
      "   5. Harbor Lights - Elvis Presley (1959)\n",
      "\n",
      "Songs Similar To 'Love Me' By 'Buddy Holly' (1958)\n",
      "   1. A Love That's Worth Having - Willie Hutch (1969)\n",
      "   2. Midnight Shift - Buddy Holly (1958)\n",
      "   3. Johnny be good - Radio Version - Jonny Bombastic (1955)\n",
      "   4. Lonely Weekends - Wanda Jackson (1961)\n",
      "   5. Rock & Roll Guitar - Johnny Knight (1959)\n",
      "\n",
      "Songs Similar To 'Love Me' By 'Sarah Vaughan' (1958)\n",
      "   1. I'm Just A Lucky So And So - Ella Fitzgerald (1957)\n",
      "   2. Make the World Go Away - Ray Price (1956)\n",
      "   3. Summer Is Gone - Carmen McRae (1956)\n",
      "   4. A Pretty Girl Is Like A Melody - Irving Berlin, Ethel Merman, Dan Dailey (1954)\n",
      "   5. Your Love Has Faded - Johnny Hodges (1961)\n",
      "\n",
      "Songs Similar To 'Love Me' By 'Bo Diddley' (1960)\n",
      "   1. Keepin' Out Of Mischief Now - Barbra Streisand (1963)\n",
      "   2. Time To Go - Lesley Gore (1963)\n",
      "   3. It's a Bird, It's a Plane, It's Superman: You've Got Possibilities - Charles Strouse, Linda Lavin, Harold Hastings (1966)\n",
      "   4. Come Back Silly Girl - The Lettermen (1962)\n",
      "   5. What I Need Is Love - Barbara Lynn (1963)\n",
      "\n",
      "Songs Similar To 'Love Me' By 'Bee Gees' (1976)\n",
      "   1. Keep It Alive - Lee Ritenour (1982)\n",
      "   2. Save Me - Queen (1981)\n",
      "   3. Don't You Ever Get Tired (Of Hurting Me) - Ronnie Milsap (1989)\n",
      "   4. I Get the Picture - Keith Whitley (1985)\n",
      "   5. Something's Gotten Hold Of My Heart - Gene Pitney (1975)\n",
      "\n",
      "Songs Similar To 'Love Me' By 'The Cramps' (1983)\n",
      "   1. Football Fight - Remastered 2011 - Queen (1980)\n",
      "   2. Let's Get This Party Started - Korn (1999)\n",
      "   3. Coming Home - Live - Scorpions (1985)\n",
      "   4. Rock On The Moon - Remastered - The Cramps (1980)\n",
      "   5. World's On Heroin - All (1998)\n",
      "\n",
      "Songs Similar To 'Love Me' By 'Tesla' (1986)\n",
      "   1. Walks Like a Woman - Baton Rouge (1990)\n",
      "   2. She Sheila - The Producers (1982)\n",
      "   3. Play with Me - Jeff Beck (1976)\n",
      "   4. Catch Me I'm Falling - Real Life (1983)\n",
      "   5. Away - Toadies (1994)\n",
      "\n",
      "Songs Similar To 'Love Me' By 'Love and Rockets' (1986)\n",
      "   1. No One Like You - Live - Scorpions (1985)\n",
      "   2. Loving You Sunday Morning - Scorpions (1979)\n",
      "   3. Promises - Fugazi (1989)\n",
      "   4. Strap Me In - The Cars (1987)\n",
      "   5. Don't Lose Your Head - Remastered 2011 - Queen (1986)\n",
      "\n",
      "Songs Similar To 'Love Me' By 'Yiruma' (2001)\n",
      "   1. Think Of Me - Stan Whitmire (1996)\n",
      "   2. I Feel My Savior's Love - Paul Cardall (2000)\n",
      "   3. O, I Love You - Essie Jain (2011)\n",
      "   4. Just the Way You Are - The Piano Guys (2013)\n",
      "   5. Baby Mine - Fred Mollin (2000)\n",
      "\n",
      "Songs Similar To 'Love Me' By 'Obie Trice, 50 Cent, Eminem' (2002)\n",
      "   1. Just a Moment (feat. Quan) - Nas, Quan (2004)\n",
      "   2. Spend Some Time - Eminem, Obie Trice, Stat Quo, 50 Cent (2004)\n",
      "   3. Jealous Got Me Strapped - Spice 1, 2Pac (1994)\n",
      "   4. Locked Up - Akon (2004)\n",
      "   5. Y'All Gone Miss Me - Snoop Dogg, Kokane (2000)\n",
      "\n",
      "Songs Similar To 'Love Me' By 'JJ Heller' (2006)\n",
      "   1. Whenever We're Alone - Brantley Gilbert (2009)\n",
      "   2. Snake Eyes - Ryan Bingham (2009)\n",
      "   3. I Believe - Shin Seung Hun (2002)\n",
      "   4. Oh, It Is Love - Hellogoodbye (2008)\n",
      "   5. Pretty Things - TFDI (2009)\n",
      "\n",
      "Songs Similar To 'Love Me' By 'Justin Bieber' (2009)\n",
      "   1. Somebody To Love - Justin Bieber (2010)\n",
      "   2. Somebody To Love Remix - Justin Bieber, Usher (2011)\n",
      "   3. Cut To The Feeling - Carly Rae Jepsen (2017)\n",
      "   4. 4 Minutes (feat. Justin Timberlake & Timbaland) - Madonna, Justin Timberlake, Timbaland (2009)\n",
      "   5. I Really Like You - Carly Rae Jepsen (2015)\n",
      "\n",
      "Songs Similar To 'Love Me' By 'Lil Wayne, Drake, Future' (2013)\n",
      "   1. That Way - Bonus Track - Lil Uzi Vert (2020)\n",
      "   2. That Way - Lil Uzi Vert (2020)\n",
      "   3. Studio - ScHoolboy Q, BJ The Chicago Kid (2014)\n",
      "   4. Lies (feat. Lil Skies) - Lil Xan, Lil Skies (2018)\n",
      "   5. My Beyoncé - Lil Durk, DeJ Loaf (2016)\n",
      "\n",
      "Songs Similar To 'Love Me' By 'The 1975' (2016)\n",
      "   1. Lotus Eater - Foster The People (2017)\n",
      "   2. Casual Sex - My Darkest Days (2012)\n",
      "   3. Moneygrabber - Fitz and The Tantrums (2010)\n",
      "   4. She Lives in My Lap (feat. Rosario Dawson) - OutKast, Rosario Dawson (2003)\n",
      "   5. Monster - Lady Gaga (2009)\n",
      "\n",
      "Songs Similar To 'Love Me' By 'Lil Tecca' (2019)\n",
      "   1. Me and My Guitar - A Boogie Wit da Hoodie (2020)\n",
      "   2. Red Nose - Sage The Gemini (2014)\n",
      "   3. Stuntin' On You (feat. DaBaby) - Tyla Yaweh, DaBaby (2020)\n",
      "   4. Run Me Dry - Bryson Tiller (2017)\n",
      "   5. Best Friend - 50 Cent (2005)\n",
      "\n"
     ]
    }
   ],
   "source": [
    "find_similar_songs(table, song_name=\"Love Me\", exact=True)\n"
   ]
  },
  {
   "cell_type": "markdown",
   "metadata": {},
   "source": [
    "## Delete KDB.AI table"
   ]
  },
  {
   "cell_type": "code",
   "execution_count": 113,
   "metadata": {},
   "outputs": [
    {
     "data": {
      "text/plain": [
       "True"
      ]
     },
     "execution_count": 113,
     "metadata": {},
     "output_type": "execute_result"
    }
   ],
   "source": [
    "table.drop()"
   ]
  },
  {
   "cell_type": "code",
   "execution_count": null,
   "metadata": {},
   "outputs": [],
   "source": []
  }
 ],
 "metadata": {
  "kernelspec": {
   "display_name": "venv",
   "language": "python",
   "name": "python3"
  },
  "language_info": {
   "codemirror_mode": {
    "name": "ipython",
    "version": 3
   },
   "file_extension": ".py",
   "mimetype": "text/x-python",
   "name": "python",
   "nbconvert_exporter": "python",
   "pygments_lexer": "ipython3",
   "version": "3.11.3"
  }
 },
 "nbformat": 4,
 "nbformat_minor": 2
}
